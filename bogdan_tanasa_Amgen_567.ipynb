{
 "cells": [
  {
   "cell_type": "code",
   "execution_count": 27,
   "metadata": {},
   "outputs": [],
   "source": [
    "# setwd(\"home/bogdan/Desktop/Amgen_code\")\n",
    "library(ggplot2)\n",
    "library(reshape2)\n",
    "library(dplyr)\n",
    "library(tidyr)\n",
    "library(car)\n",
    "library(lmtest)\n",
    "library(nortest)\n",
    "library(multcomp)\n",
    "library(emmeans)\n",
    "# library(tidyverse)"
   ]
  },
  {
   "cell_type": "code",
   "execution_count": null,
   "metadata": {},
   "outputs": [],
   "source": []
  },
  {
   "cell_type": "code",
   "execution_count": 2,
   "metadata": {},
   "outputs": [
    {
     "data": {
      "text/html": [
       "<style>\n",
       ".list-inline {list-style: none; margin:0; padding: 0}\n",
       ".list-inline>li {display: inline-block}\n",
       ".list-inline>li:not(:last-child)::after {content: \"\\00b7\"; padding: 0 .5ex}\n",
       "</style>\n",
       "<ol class=list-inline><li>'subject'</li><li>'timepoint'</li><li>'analyte_value'</li><li>'marker'</li><li>'treatment_group'</li></ol>\n"
      ],
      "text/latex": [
       "\\begin{enumerate*}\n",
       "\\item 'subject'\n",
       "\\item 'timepoint'\n",
       "\\item 'analyte\\_value'\n",
       "\\item 'marker'\n",
       "\\item 'treatment\\_group'\n",
       "\\end{enumerate*}\n"
      ],
      "text/markdown": [
       "1. 'subject'\n",
       "2. 'timepoint'\n",
       "3. 'analyte_value'\n",
       "4. 'marker'\n",
       "5. 'treatment_group'\n",
       "\n",
       "\n"
      ],
      "text/plain": [
       "[1] \"subject\"         \"timepoint\"       \"analyte_value\"   \"marker\"         \n",
       "[5] \"treatment_group\""
      ]
     },
     "metadata": {},
     "output_type": "display_data"
    }
   ],
   "source": [
    "x = read.delim(\"input.txt\", header = T, sep=\"\\t\", stringsAsFactors = FALSE)\n",
    "colnames(x)"
   ]
  },
  {
   "cell_type": "code",
   "execution_count": null,
   "metadata": {},
   "outputs": [],
   "source": []
  },
  {
   "cell_type": "code",
   "execution_count": 3,
   "metadata": {},
   "outputs": [],
   "source": [
    "# DATA EXPLORATION, in concordance with the longitudinal treatment evaluation"
   ]
  },
  {
   "cell_type": "code",
   "execution_count": 4,
   "metadata": {},
   "outputs": [
    {
     "name": "stdout",
     "output_type": "stream",
     "text": [
      "[1] \"the subjects enrolled in the study :\"\n"
     ]
    },
    {
     "data": {
      "text/plain": [
       "\n",
       " A  B  C  D  E  F  G  H  J  K  L  M  N  P  Q  R  S  T  U  V  W \n",
       "12 15 15 15 15  9 15  3  9 15  5 12 15 15 12 12 15 12 15  6 12 "
      ]
     },
     "metadata": {},
     "output_type": "display_data"
    },
    {
     "name": "stdout",
     "output_type": "stream",
     "text": [
      "[1] \"the number of subjects is :\"\n"
     ]
    },
    {
     "data": {
      "text/html": [
       "21"
      ],
      "text/latex": [
       "21"
      ],
      "text/markdown": [
       "21"
      ],
      "text/plain": [
       "[1] 21"
      ]
     },
     "metadata": {},
     "output_type": "display_data"
    },
    {
     "name": "stdout",
     "output_type": "stream",
     "text": [
      "[1] \"the timepoints :\"\n"
     ]
    },
    {
     "data": {
      "text/plain": [
       "\n",
       " DAY1 DAY15 DAY22 DAY29  DAY8 \n",
       "   56    51    48    45    54 "
      ]
     },
     "metadata": {},
     "output_type": "display_data"
    },
    {
     "name": "stdout",
     "output_type": "stream",
     "text": [
      "[1] \"the markers :\"\n"
     ]
    },
    {
     "data": {
      "text/plain": [
       "\n",
       "C4 C8 TG \n",
       "85 85 84 "
      ]
     },
     "metadata": {},
     "output_type": "display_data"
    },
    {
     "name": "stdout",
     "output_type": "stream",
     "text": [
      "[1] \"the treatment groups :\"\n"
     ]
    },
    {
     "data": {
      "text/plain": [
       "\n",
       "TA TB TC \n",
       "83 87 84 "
      ]
     },
     "metadata": {},
     "output_type": "display_data"
    }
   ],
   "source": [
    "print(\"the subjects enrolled in the study :\")\n",
    "table(x$subject)\n",
    "print(\"the number of subjects is :\")\n",
    "length(unique(x$subject))\n",
    "print(\"the timepoints :\")\n",
    "table(x$timepoint)\n",
    "print(\"the markers :\")\n",
    "table(x$marker)\n",
    "print(\"the treatment groups :\")\n",
    "table(x$treatment_group)"
   ]
  },
  {
   "cell_type": "code",
   "execution_count": 5,
   "metadata": {},
   "outputs": [],
   "source": [
    "# coding subject, timepoint, marker, treatment_group as FACTORS\n",
    "x$subject <- factor(x$subject)\n",
    "x$timepoint <- factor(x$timepoint)\n",
    "x$marker <- factor(x$marker)\n",
    "x$treatment_group <- factor(x$treatment_group)\n",
    "\n",
    "# ensuring that 'timepoint' is a factor with the desired order\n",
    "x$timepoint <- factor(x$timepoint, levels = c(\"DAY1\", \"DAY8\", \"DAY15\", \"DAY22\", \"DAY29\"))"
   ]
  },
  {
   "cell_type": "code",
   "execution_count": 6,
   "metadata": {},
   "outputs": [
    {
     "data": {
      "text/html": [
       "<table class=\"dataframe\">\n",
       "<caption>A data.frame: 2 × 5</caption>\n",
       "<thead>\n",
       "\t<tr><th></th><th scope=col>subject</th><th scope=col>timepoint</th><th scope=col>analyte_value</th><th scope=col>marker</th><th scope=col>treatment_group</th></tr>\n",
       "\t<tr><th></th><th scope=col>&lt;fct&gt;</th><th scope=col>&lt;fct&gt;</th><th scope=col>&lt;int&gt;</th><th scope=col>&lt;fct&gt;</th><th scope=col>&lt;fct&gt;</th></tr>\n",
       "</thead>\n",
       "<tbody>\n",
       "\t<tr><th scope=row>1</th><td>A</td><td>DAY1</td><td>169</td><td>C4</td><td>TA</td></tr>\n",
       "\t<tr><th scope=row>2</th><td>A</td><td>DAY1</td><td>207</td><td>C8</td><td>TA</td></tr>\n",
       "</tbody>\n",
       "</table>\n"
      ],
      "text/latex": [
       "A data.frame: 2 × 5\n",
       "\\begin{tabular}{r|lllll}\n",
       "  & subject & timepoint & analyte\\_value & marker & treatment\\_group\\\\\n",
       "  & <fct> & <fct> & <int> & <fct> & <fct>\\\\\n",
       "\\hline\n",
       "\t1 & A & DAY1 & 169 & C4 & TA\\\\\n",
       "\t2 & A & DAY1 & 207 & C8 & TA\\\\\n",
       "\\end{tabular}\n"
      ],
      "text/markdown": [
       "\n",
       "A data.frame: 2 × 5\n",
       "\n",
       "| <!--/--> | subject &lt;fct&gt; | timepoint &lt;fct&gt; | analyte_value &lt;int&gt; | marker &lt;fct&gt; | treatment_group &lt;fct&gt; |\n",
       "|---|---|---|---|---|---|\n",
       "| 1 | A | DAY1 | 169 | C4 | TA |\n",
       "| 2 | A | DAY1 | 207 | C8 | TA |\n",
       "\n"
      ],
      "text/plain": [
       "  subject timepoint analyte_value marker treatment_group\n",
       "1 A       DAY1      169           C4     TA             \n",
       "2 A       DAY1      207           C8     TA             "
      ]
     },
     "metadata": {},
     "output_type": "display_data"
    },
    {
     "data": {
      "text/html": [
       "<table class=\"dataframe\">\n",
       "<caption>A data.frame: 2 × 5</caption>\n",
       "<thead>\n",
       "\t<tr><th></th><th scope=col>subject</th><th scope=col>timepoint</th><th scope=col>analyte_value</th><th scope=col>marker</th><th scope=col>treatment_group</th></tr>\n",
       "\t<tr><th></th><th scope=col>&lt;fct&gt;</th><th scope=col>&lt;fct&gt;</th><th scope=col>&lt;int&gt;</th><th scope=col>&lt;fct&gt;</th><th scope=col>&lt;fct&gt;</th></tr>\n",
       "</thead>\n",
       "<tbody>\n",
       "\t<tr><th scope=row>253</th><td>U</td><td>DAY8</td><td>225</td><td>C8</td><td>TC</td></tr>\n",
       "\t<tr><th scope=row>254</th><td>U</td><td>DAY8</td><td> 76</td><td>TG</td><td>TC</td></tr>\n",
       "</tbody>\n",
       "</table>\n"
      ],
      "text/latex": [
       "A data.frame: 2 × 5\n",
       "\\begin{tabular}{r|lllll}\n",
       "  & subject & timepoint & analyte\\_value & marker & treatment\\_group\\\\\n",
       "  & <fct> & <fct> & <int> & <fct> & <fct>\\\\\n",
       "\\hline\n",
       "\t253 & U & DAY8 & 225 & C8 & TC\\\\\n",
       "\t254 & U & DAY8 &  76 & TG & TC\\\\\n",
       "\\end{tabular}\n"
      ],
      "text/markdown": [
       "\n",
       "A data.frame: 2 × 5\n",
       "\n",
       "| <!--/--> | subject &lt;fct&gt; | timepoint &lt;fct&gt; | analyte_value &lt;int&gt; | marker &lt;fct&gt; | treatment_group &lt;fct&gt; |\n",
       "|---|---|---|---|---|---|\n",
       "| 253 | U | DAY8 | 225 | C8 | TC |\n",
       "| 254 | U | DAY8 |  76 | TG | TC |\n",
       "\n"
      ],
      "text/plain": [
       "    subject timepoint analyte_value marker treatment_group\n",
       "253 U       DAY8      225           C8     TC             \n",
       "254 U       DAY8       76           TG     TC             "
      ]
     },
     "metadata": {},
     "output_type": "display_data"
    }
   ],
   "source": [
    "head(x,2)\n",
    "tail(x,2)"
   ]
  },
  {
   "cell_type": "code",
   "execution_count": null,
   "metadata": {},
   "outputs": [],
   "source": []
  },
  {
   "cell_type": "code",
   "execution_count": 7,
   "metadata": {},
   "outputs": [],
   "source": [
    "# 5. Please fit an approriate statistical model for each marker with analyte_value as dependent variables, \n",
    "# and timepoint and treatment as independent variables (both are conisidered factors). \n",
    "# Assume subjects are randomly drawn from a population. \n",
    "# With each model, please report the significance of treatment effect and the contrast between Day 22 and Day 8."
   ]
  },
  {
   "cell_type": "code",
   "execution_count": null,
   "metadata": {},
   "outputs": [],
   "source": []
  },
  {
   "cell_type": "code",
   "execution_count": 8,
   "metadata": {},
   "outputs": [],
   "source": [
    "# Given the statistical analysis shown in the previous part (part4), \n",
    "# focused on the gaussian distribution and  homescedasticity / heteroscedasticity of the data,\n",
    "# I believe that we could use simple linear models. \n",
    "# Given a few exceptions in the gaussian distribution and homoscedasticity of the analyte values, \n",
    "# that we have observed, we may also use GLM."
   ]
  },
  {
   "cell_type": "code",
   "execution_count": null,
   "metadata": {},
   "outputs": [],
   "source": []
  },
  {
   "cell_type": "code",
   "execution_count": 9,
   "metadata": {},
   "outputs": [],
   "source": [
    "# In our models, we do NOT consider INTERACTIONS between TIMEPOINT and TREATMENT."
   ]
  },
  {
   "cell_type": "code",
   "execution_count": null,
   "metadata": {},
   "outputs": [],
   "source": []
  },
  {
   "cell_type": "code",
   "execution_count": 10,
   "metadata": {},
   "outputs": [],
   "source": [
    "# Separating the data frame per marker\n",
    "\n",
    "x$timepoint = factor(x$timepoint, levels = c(\"DAY1\", \"DAY8\", \"DAY15\", \"DAY22\", \"DAY29\"))\n",
    "x$treatment_group = factor(x$treatment_group)\n",
    "\n",
    "# Set reference levels\n",
    "x$treatment_group <- relevel(x$treatment_group, ref = \"TA\")\n",
    "x$timepoint <- relevel(x$timepoint, ref = \"DAY1\")\n",
    "\n",
    "x_C4 = split(x, x$marker)$C4\n",
    "x_C8 = split(x, x$marker)$C8\n",
    "x_TG = split(x, x$marker)$TG"
   ]
  },
  {
   "cell_type": "code",
   "execution_count": null,
   "metadata": {},
   "outputs": [],
   "source": []
  },
  {
   "cell_type": "code",
   "execution_count": 11,
   "metadata": {},
   "outputs": [
    {
     "name": "stdout",
     "output_type": "stream",
     "text": [
      "\n",
      "Call:\n",
      "lm(formula = analyte_value ~ timepoint + treatment_group, data = df)\n",
      "\n",
      "Residuals:\n",
      "   Min     1Q Median     3Q    Max \n",
      "-755.9 -330.9 -147.1  219.2 1846.1 \n",
      "\n",
      "Coefficients:\n",
      "                  Estimate Std. Error t value Pr(>|t|)    \n",
      "(Intercept)         562.19     152.06   3.697 0.000404 ***\n",
      "timepointDAY8       320.46     184.53   1.737 0.086393 .  \n",
      "timepointDAY15       76.74     186.55   0.411 0.681916    \n",
      "timepointDAY22       20.37     189.96   0.107 0.914899    \n",
      "timepointDAY29     -119.94     192.79  -0.622 0.535672    \n",
      "treatment_groupTB   127.29     148.39   0.858 0.393637    \n",
      "treatment_groupTC  -236.43     150.10  -1.575 0.119277    \n",
      "---\n",
      "Signif. codes:  0 ‘***’ 0.001 ‘**’ 0.01 ‘*’ 0.05 ‘.’ 0.1 ‘ ’ 1\n",
      "\n",
      "Residual standard error: 557.6 on 78 degrees of freedom\n",
      "Multiple R-squared:  0.1444,\tAdjusted R-squared:  0.07853 \n",
      "F-statistic: 2.193 on 6 and 78 DF,  p-value: 0.05236\n",
      "\n",
      " contrast      estimate  SE df t.ratio p.value\n",
      " Day22 vs Day8     -300 193 78  -1.556  0.1237\n",
      "\n",
      "Results are averaged over the levels of: treatment_group \n"
     ]
    }
   ],
   "source": [
    "df = x_C4\n",
    "\n",
    "# Fit Generalized Linear Model\n",
    "# glm_model <- glm(analyte_value ~ timepoint + treatment_group, \n",
    "#                  family = gaussian(), # the model assumes normally distributed residuals.\n",
    "#                  data = df)\n",
    "# Get the model summary\n",
    "# glm_summary <- summary(glm_model)\n",
    "# print(glm_summary)\n",
    "\n",
    "# Fit a Linear Model\n",
    "lm_model <- lm(analyte_value ~ timepoint + treatment_group, data = df)\n",
    "\n",
    "# Get the model summary\n",
    "lm_summary <- summary(lm_model)\n",
    "\n",
    "# Print the summary to examine significance of effects\n",
    "print(lm_summary)\n",
    "\n",
    "# Extracting the contrast of interest : \n",
    "df$timepoint <- factor(df$timepoint, levels = c(\"DAY1\", \"DAY8\", \"DAY15\", \"DAY22\", \"DAY29\"))\n",
    "\n",
    "# Compute estimated marginal means\n",
    "emm <- emmeans(lm_model, ~ timepoint)\n",
    "\n",
    "# Specify the contrast between Day 22 and Day 8\n",
    "contrast_results <- contrast(emm, list(\"Day22 vs Day8\" = c(0, -1, 0, 1, 0)))\n",
    "\n",
    "# Print the results\n",
    "print(contrast_results)"
   ]
  },
  {
   "cell_type": "code",
   "execution_count": 12,
   "metadata": {},
   "outputs": [],
   "source": [
    "# INTERPRETATION :\n",
    "\n",
    "# REFERENCE LEVELS : \n",
    "# When all predictors are at their reference levels (treatment \"TA\", timepoint \"DAY1\"), \n",
    "# the estimated average analyte_value is statistically significant, indicating a strong baseline effect.\n",
    "\n",
    "# For the timepoint \"DAY8\" compared to the reference timepoint, the analyte_value is marginally significant \n",
    "# (p-value just above 0.05), suggesting a trend toward significance.\n",
    "\n",
    "# Additionally, Multiple R-squared and Adjusted R-squared are very low, indicating that the model does not explain \n",
    "# much more variance than would be expected by chance. \n",
    "# There is a relatively weak relationship between the predictors and the outcome.\n",
    "\n",
    "# Only the intercept is statistically significant.\n",
    "# The F-statistic is close to 0.05, indicating that the model is marginally significant as a whole \n",
    "# but doesn’t strongly explain the variability in the response variable.\n",
    "\n",
    "# Contrast DAY22 - DAY8 : the difference is not statistically significant."
   ]
  },
  {
   "cell_type": "code",
   "execution_count": 13,
   "metadata": {},
   "outputs": [
    {
     "name": "stdout",
     "output_type": "stream",
     "text": [
      "\n",
      "Call:\n",
      "lm(formula = analyte_value ~ timepoint + treatment_group, data = df)\n",
      "\n",
      "Residuals:\n",
      "    Min      1Q  Median      3Q     Max \n",
      "-1848.8  -589.3  -172.8   177.7  4731.4 \n",
      "\n",
      "Coefficients:\n",
      "                  Estimate Std. Error t value Pr(>|t|)   \n",
      "(Intercept)         616.15     357.07   1.726  0.08839 . \n",
      "timepointDAY8       449.18     433.31   1.037  0.30311   \n",
      "timepointDAY15      -23.38     438.06  -0.053  0.95757   \n",
      "timepointDAY22      -67.02     446.07  -0.150  0.88095   \n",
      "timepointDAY29     -323.47     452.71  -0.715  0.47704   \n",
      "treatment_groupTB  1108.49     348.45   3.181  0.00211 **\n",
      "treatment_groupTC   -36.32     352.48  -0.103  0.91819   \n",
      "---\n",
      "Signif. codes:  0 ‘***’ 0.001 ‘**’ 0.01 ‘*’ 0.05 ‘.’ 0.1 ‘ ’ 1\n",
      "\n",
      "Residual standard error: 1309 on 78 degrees of freedom\n",
      "Multiple R-squared:  0.1854,\tAdjusted R-squared:  0.1227 \n",
      "F-statistic: 2.959 on 6 and 78 DF,  p-value: 0.01178\n",
      "\n",
      " contrast      estimate  SE df t.ratio p.value\n",
      " Day22 vs Day8     -516 453 78  -1.140  0.2578\n",
      "\n",
      "Results are averaged over the levels of: treatment_group \n"
     ]
    }
   ],
   "source": [
    "df = x_C8\n",
    "\n",
    "# Fit Generalized Linear Model\n",
    "# glm_model <- glm(analyte_value ~ timepoint + treatment_group, \n",
    "#                  family = gaussian(), # the model assumes normally distributed residuals.\n",
    "#                  data = df)\n",
    "# Get the model summary\n",
    "# glm_summary <- summary(glm_model)\n",
    "# print(glm_summary)\n",
    "\n",
    "# Fit a Linear Model\n",
    "lm_model <- lm(analyte_value ~ timepoint + treatment_group, data = df)\n",
    "\n",
    "# Get the model summary\n",
    "lm_summary <- summary(lm_model)\n",
    "\n",
    "# Print the summary to examine significance of effects\n",
    "print(lm_summary)\n",
    "\n",
    "# Extracting the contrast of interest : \n",
    "df$timepoint <- factor(df$timepoint, levels = c(\"DAY1\", \"DAY8\", \"DAY15\", \"DAY22\", \"DAY29\"))\n",
    "\n",
    "# Compute estimated marginal means\n",
    "emm <- emmeans(lm_model, ~ timepoint)\n",
    "\n",
    "# Specify the contrast between Day 22 and Day 8\n",
    "contrast_results <- contrast(emm, list(\"Day22 vs Day8\" = c(0, -1, 0, 1, 0)))\n",
    "\n",
    "# Print the results\n",
    "print(contrast_results)"
   ]
  },
  {
   "cell_type": "code",
   "execution_count": 14,
   "metadata": {},
   "outputs": [],
   "source": [
    "# INTERPRETATION : \n",
    "\n",
    "# The estimated baseline analyte_value when timepoint and treatment_group are at their reference levels is marginally significant.\n",
    "# The p-value is slightly above the conventional 0.05 threshold, \n",
    "# suggesting that the baseline value is not significantly different from zero, but there is a hint of a difference.\n",
    "\n",
    "# TREATMENT TB : The analyte_value for the treatment group \"TB\" is estimated to be 1108 units higher compared \n",
    "# to the reference treatment group. \n",
    "# This effect is statistically significant (p-value < 0.01), suggesting a strong difference in analyte_value for the \"TB\" treatment group.\n",
    "\n",
    "# Additionally, Multiple R-squared and Adjusted R-squared are very low, indicating that the model does not explain \n",
    "# much more variance than would be expected by chance. \n",
    "# There is a relatively weak relationship between the predictors and the outcome.\n",
    "\n",
    "# Only treatment_groupTB shows a statistically significant effect on analyte_value,\n",
    "# suggesting a notable impact of this treatment group.\n",
    "\n",
    "# The F-statistic is significant (p-value < 0.05), indicating that the model as a whole is statistically significant \n",
    "# and that at least one of the predictors contributes to explaining the variability in analyte_value.\n",
    "\n",
    "# Contrast DAY22 - DAY8 : the difference is not statistically significant."
   ]
  },
  {
   "cell_type": "code",
   "execution_count": 15,
   "metadata": {},
   "outputs": [
    {
     "name": "stdout",
     "output_type": "stream",
     "text": [
      "\n",
      "Call:\n",
      "lm(formula = analyte_value ~ timepoint + treatment_group, data = df)\n",
      "\n",
      "Residuals:\n",
      "    Min      1Q  Median      3Q     Max \n",
      "-178.57  -62.16  -20.83   36.88  493.43 \n",
      "\n",
      "Coefficients:\n",
      "                  Estimate Std. Error t value Pr(>|t|)    \n",
      "(Intercept)         42.165     33.471   1.260 0.211567    \n",
      "timepointDAY8      157.407     39.634   3.972 0.000159 ***\n",
      "timepointDAY15      76.890     39.986   1.923 0.058189 .  \n",
      "timepointDAY22      94.455     40.672   2.322 0.022857 *  \n",
      "timepointDAY29      32.887     41.317   0.796 0.428506    \n",
      "treatment_groupTB   -5.556     31.669  -0.175 0.861187    \n",
      "treatment_groupTC  -22.598     32.097  -0.704 0.483522    \n",
      "---\n",
      "Signif. codes:  0 ‘***’ 0.001 ‘**’ 0.01 ‘*’ 0.05 ‘.’ 0.1 ‘ ’ 1\n",
      "\n",
      "Residual standard error: 118.1 on 77 degrees of freedom\n",
      "Multiple R-squared:  0.2021,\tAdjusted R-squared:  0.1399 \n",
      "F-statistic:  3.25 on 6 and 77 DF,  p-value: 0.006689\n",
      "\n",
      " contrast      estimate   SE df t.ratio p.value\n",
      " Day22 vs Day8      -63 40.8 77  -1.541  0.1273\n",
      "\n",
      "Results are averaged over the levels of: treatment_group \n"
     ]
    }
   ],
   "source": [
    "df = x_TG\n",
    "\n",
    "# Fit Generalized Linear Model\n",
    "# glm_model <- glm(analyte_value ~ timepoint + treatment_group, \n",
    "#                  family = gaussian(), # the model assumes normally distributed residuals.\n",
    "#                  data = df)\n",
    "# Get the model summary\n",
    "# glm_summary <- summary(glm_model)\n",
    "# print(glm_summary)\n",
    "\n",
    "# Fit a Linear Model\n",
    "lm_model <- lm(analyte_value ~ timepoint + treatment_group, data = df)\n",
    "\n",
    "# Get the model summary\n",
    "lm_summary <- summary(lm_model)\n",
    "\n",
    "# Print the summary to examine significance of effects\n",
    "print(lm_summary)\n",
    "\n",
    "# Extracting the contrast of interest : \n",
    "df$timepoint <- factor(df$timepoint, levels = c(\"DAY1\", \"DAY8\", \"DAY15\", \"DAY22\", \"DAY29\"))\n",
    "\n",
    "# Compute estimated marginal means\n",
    "emm <- emmeans(lm_model, ~ timepoint)\n",
    "\n",
    "# Specify the contrast between Day 22 and Day 8\n",
    "contrast_results <- contrast(emm, list(\"Day22 vs Day8\" = c(0, -1, 0, 1, 0)))\n",
    "\n",
    "# Print the results\n",
    "print(contrast_results)"
   ]
  },
  {
   "cell_type": "code",
   "execution_count": 16,
   "metadata": {},
   "outputs": [],
   "source": [
    "# INTERPRETATION :\n",
    "\n",
    "# DAY 8 : The analyte_value is significantly higher on DAY 8 compared to the reference timepoint, \n",
    "# and this effect is highly statistically significant.\n",
    "\n",
    "# DAY 22: The positive estimate indicates a meaningful increase in analyte_value, \n",
    "# and the p-value below 0.05 confirms that this effect is statistically significant.\n",
    "\n",
    "# Additionally, Multiple R-squared and Adjusted R-squared are very low, indicating that the model does not explain \n",
    "# much more variance than would be expected by chance. \n",
    "# There is a relatively weak relationship between the predictors and the outcome.\n",
    "\n",
    "# DAY8 and DAY22 have a significant impact on analyte_value, with DAY8 showing the strongest effect. \n",
    "# DAY15 is marginally significant, while DAY29 does not significantly impact analyte_value.\n",
    "\n",
    "# The p-value of the F-statistics indicates that the overall model is statistically significant. \n",
    "\n",
    "# Contrast DAY22 - DAY8 : the difference is not statistically significant."
   ]
  },
  {
   "cell_type": "code",
   "execution_count": null,
   "metadata": {},
   "outputs": [],
   "source": []
  },
  {
   "cell_type": "code",
   "execution_count": 17,
   "metadata": {},
   "outputs": [],
   "source": [
    "# 6. If you had to analyze 1 million markers, how would you parallelize the tests from question 4 \n",
    "# on a multi-processor machine? Please demonstrate this parallelization using just the markers \n",
    "# available in the spreadsheet."
   ]
  },
  {
   "cell_type": "code",
   "execution_count": null,
   "metadata": {},
   "outputs": [],
   "source": []
  },
  {
   "cell_type": "code",
   "execution_count": 18,
   "metadata": {},
   "outputs": [
    {
     "data": {
      "text/html": [
       "<table class=\"dataframe\">\n",
       "<caption>A data.frame: 2 × 5</caption>\n",
       "<thead>\n",
       "\t<tr><th></th><th scope=col>subject</th><th scope=col>marker</th><th scope=col>treatment_group</th><th scope=col>analyte_value.DAY1</th><th scope=col>analyte_value.DAY8</th></tr>\n",
       "\t<tr><th></th><th scope=col>&lt;fct&gt;</th><th scope=col>&lt;fct&gt;</th><th scope=col>&lt;fct&gt;</th><th scope=col>&lt;int&gt;</th><th scope=col>&lt;int&gt;</th></tr>\n",
       "</thead>\n",
       "<tbody>\n",
       "\t<tr><th scope=row>1</th><td>C</td><td>C4</td><td>TB</td><td>2328</td><td>2534</td></tr>\n",
       "\t<tr><th scope=row>2</th><td>C</td><td>C8</td><td>TB</td><td>6456</td><td>6384</td></tr>\n",
       "</tbody>\n",
       "</table>\n"
      ],
      "text/latex": [
       "A data.frame: 2 × 5\n",
       "\\begin{tabular}{r|lllll}\n",
       "  & subject & marker & treatment\\_group & analyte\\_value.DAY1 & analyte\\_value.DAY8\\\\\n",
       "  & <fct> & <fct> & <fct> & <int> & <int>\\\\\n",
       "\\hline\n",
       "\t1 & C & C4 & TB & 2328 & 2534\\\\\n",
       "\t2 & C & C8 & TB & 6456 & 6384\\\\\n",
       "\\end{tabular}\n"
      ],
      "text/markdown": [
       "\n",
       "A data.frame: 2 × 5\n",
       "\n",
       "| <!--/--> | subject &lt;fct&gt; | marker &lt;fct&gt; | treatment_group &lt;fct&gt; | analyte_value.DAY1 &lt;int&gt; | analyte_value.DAY8 &lt;int&gt; |\n",
       "|---|---|---|---|---|---|\n",
       "| 1 | C | C4 | TB | 2328 | 2534 |\n",
       "| 2 | C | C8 | TB | 6456 | 6384 |\n",
       "\n"
      ],
      "text/plain": [
       "  subject marker treatment_group analyte_value.DAY1 analyte_value.DAY8\n",
       "1 C       C4     TB              2328               2534              \n",
       "2 C       C8     TB              6456               6384              "
      ]
     },
     "metadata": {},
     "output_type": "display_data"
    },
    {
     "data": {
      "text/html": [
       "<table class=\"dataframe\">\n",
       "<caption>A data.frame: 2 × 5</caption>\n",
       "<thead>\n",
       "\t<tr><th></th><th scope=col>subject</th><th scope=col>marker</th><th scope=col>treatment_group</th><th scope=col>analyte_value.DAY1</th><th scope=col>analyte_value.DAY8</th></tr>\n",
       "\t<tr><th></th><th scope=col>&lt;fct&gt;</th><th scope=col>&lt;fct&gt;</th><th scope=col>&lt;fct&gt;</th><th scope=col>&lt;int&gt;</th><th scope=col>&lt;int&gt;</th></tr>\n",
       "</thead>\n",
       "<tbody>\n",
       "\t<tr><th scope=row>20</th><td>H</td><td>C8</td><td>TB</td><td>NA</td><td>1185</td></tr>\n",
       "\t<tr><th scope=row>21</th><td>H</td><td>TG</td><td>TB</td><td>NA</td><td> 645</td></tr>\n",
       "</tbody>\n",
       "</table>\n"
      ],
      "text/latex": [
       "A data.frame: 2 × 5\n",
       "\\begin{tabular}{r|lllll}\n",
       "  & subject & marker & treatment\\_group & analyte\\_value.DAY1 & analyte\\_value.DAY8\\\\\n",
       "  & <fct> & <fct> & <fct> & <int> & <int>\\\\\n",
       "\\hline\n",
       "\t20 & H & C8 & TB & NA & 1185\\\\\n",
       "\t21 & H & TG & TB & NA &  645\\\\\n",
       "\\end{tabular}\n"
      ],
      "text/markdown": [
       "\n",
       "A data.frame: 2 × 5\n",
       "\n",
       "| <!--/--> | subject &lt;fct&gt; | marker &lt;fct&gt; | treatment_group &lt;fct&gt; | analyte_value.DAY1 &lt;int&gt; | analyte_value.DAY8 &lt;int&gt; |\n",
       "|---|---|---|---|---|---|\n",
       "| 20 | H | C8 | TB | NA | 1185 |\n",
       "| 21 | H | TG | TB | NA |  645 |\n",
       "\n"
      ],
      "text/plain": [
       "   subject marker treatment_group analyte_value.DAY1 analyte_value.DAY8\n",
       "20 H       C8     TB              NA                 1185              \n",
       "21 H       TG     TB              NA                  645              "
      ]
     },
     "metadata": {},
     "output_type": "display_data"
    }
   ],
   "source": [
    "# Let's consider the code that we have used before, when considering the treatment TB. \n",
    "\n",
    "x_wide <- reshape(\n",
    "  x,\n",
    "  idvar = c(\"subject\", \"marker\", \"treatment_group\"),  # Variables to keep constant\n",
    "  timevar = \"timepoint\",                              # Variable that will become columns\n",
    "  direction = \"wide\",                                 # Convert from long to wide format\n",
    "  v.names = \"analyte_value\"                           # Values to spread across the new columns\n",
    ")\n",
    "\n",
    "a <- x_wide %>% dplyr::select(subject, \n",
    "                        marker,\n",
    "                        treatment_group,\n",
    "                        analyte_value.DAY1,\n",
    "                        analyte_value.DAY8)\n",
    "\n",
    "\n",
    "a_tb <- a %>% filter(treatment_group == \"TB\")\n",
    "head(a_tb, 2)\n",
    "tail(a_tb, 2)"
   ]
  },
  {
   "cell_type": "code",
   "execution_count": 19,
   "metadata": {},
   "outputs": [
    {
     "name": "stdout",
     "output_type": "stream",
     "text": [
      "[1] \"Differences in the Treatment TB :\"\n",
      "[1] \"use Welsch T.test:\"\n",
      "\u001b[90m# A tibble: 3 × 4\u001b[39m\n",
      "  marker t_test  p_value significance_label\n",
      "  \u001b[3m\u001b[90m<fct>\u001b[39m\u001b[23m  \u001b[3m\u001b[90m<list>\u001b[39m\u001b[23m    \u001b[3m\u001b[90m<dbl>\u001b[39m\u001b[23m \u001b[3m\u001b[90m<chr>\u001b[39m\u001b[23m             \n",
      "\u001b[90m1\u001b[39m C4     \u001b[90m<htest>\u001b[39m  0.469  Not Significant   \n",
      "\u001b[90m2\u001b[39m C8     \u001b[90m<htest>\u001b[39m  0.675  Not Significant   \n",
      "\u001b[90m3\u001b[39m TG     \u001b[90m<htest>\u001b[39m  0.068\u001b[4m2\u001b[24m Not Significant   \n"
     ]
    }
   ],
   "source": [
    "df = a_tb \n",
    "\n",
    "# Previously, when answering the question # 4, we have written the following piece of code \n",
    "# We used T.test with var.equal = TRUE and Welch T.test.\n",
    "# We demonstrate the code by using Welch T.test segment of code.\n",
    "\n",
    "results <- df %>%\n",
    "  group_by(marker) %>%\n",
    "  summarise(\n",
    "    t_test = list(t.test(analyte_value.DAY8, analyte_value.DAY1)),\n",
    "    .groups = 'drop'\n",
    "  ) %>%\n",
    "  mutate(\n",
    "    p_value = sapply(t_test, function(x) x$p.value),\n",
    "    significance_label = ifelse(p_value < 0.05, \"Significant\", \"Not Significant\")\n",
    "  )\n",
    "# Print the results\n",
    "print(\"Differences in the Treatment TB :\")\n",
    "print(\"use Welsch T.test:\")\n",
    "print(results)"
   ]
  },
  {
   "cell_type": "code",
   "execution_count": null,
   "metadata": {},
   "outputs": [],
   "source": []
  },
  {
   "cell_type": "code",
   "execution_count": 20,
   "metadata": {},
   "outputs": [
    {
     "name": "stdout",
     "output_type": "stream",
     "text": [
      "[1] \"the number of cores is :\"\n",
      "[1] 7\n"
     ]
    }
   ],
   "source": [
    "# In order to parallelize, we use the library \"parallel\" :\n",
    "library(parallel)\n",
    "\n",
    "# Number of cores to use\n",
    "num_cores <- detectCores() - 1\n",
    "print(\"the number of cores is :\") \n",
    "print(num_cores)\n"
   ]
  },
  {
   "cell_type": "code",
   "execution_count": 21,
   "metadata": {},
   "outputs": [],
   "source": [
    "# Define the function to perform Welch T-test for each marker\n",
    "\n",
    "compute_t_test <- function(marker_data) {\n",
    "  \n",
    "  t_test_result <- t.test(marker_data$analyte_value.DAY8, marker_data$analyte_value.DAY1)\n",
    "  \n",
    "  p_value <- t_test_result$p.value\n",
    "  significance_label <- ifelse(p_value < 0.05, \"Significant\", \"Not Significant\")\n",
    "  \n",
    "  return(list(p_value = p_value, significance_label = significance_label))\n",
    "}\n",
    "\n",
    "# Split data by marker\n",
    "df = a_tb \n",
    "marker_list <- split(df, df$marker)\n",
    "\n",
    "# Initialize parallel computing, perform parallel computation, and stop the cluster\n",
    "cl <- makeCluster(num_cores)\n",
    "results_list <- parLapply(cl, marker_list, compute_t_test)\n",
    "stopCluster(cl)\n"
   ]
  },
  {
   "cell_type": "code",
   "execution_count": 22,
   "metadata": {},
   "outputs": [
    {
     "name": "stdout",
     "output_type": "stream",
     "text": [
      "[1] \"the results produced by the R cluster :\"\n"
     ]
    },
    {
     "data": {
      "text/html": [
       "<dl>\n",
       "\t<dt>$C4</dt>\n",
       "\t\t<dd><dl>\n",
       "\t<dt>$p_value</dt>\n",
       "\t\t<dd>0.469323413820375</dd>\n",
       "\t<dt>$significance_label</dt>\n",
       "\t\t<dd>'Not Significant'</dd>\n",
       "</dl>\n",
       "</dd>\n",
       "\t<dt>$C8</dt>\n",
       "\t\t<dd><dl>\n",
       "\t<dt>$p_value</dt>\n",
       "\t\t<dd>0.674525825733627</dd>\n",
       "\t<dt>$significance_label</dt>\n",
       "\t\t<dd>'Not Significant'</dd>\n",
       "</dl>\n",
       "</dd>\n",
       "\t<dt>$TG</dt>\n",
       "\t\t<dd><dl>\n",
       "\t<dt>$p_value</dt>\n",
       "\t\t<dd>0.0682488960194285</dd>\n",
       "\t<dt>$significance_label</dt>\n",
       "\t\t<dd>'Not Significant'</dd>\n",
       "</dl>\n",
       "</dd>\n",
       "</dl>\n"
      ],
      "text/latex": [
       "\\begin{description}\n",
       "\\item[\\$C4] \\begin{description}\n",
       "\\item[\\$p\\_value] 0.469323413820375\n",
       "\\item[\\$significance\\_label] 'Not Significant'\n",
       "\\end{description}\n",
       "\n",
       "\\item[\\$C8] \\begin{description}\n",
       "\\item[\\$p\\_value] 0.674525825733627\n",
       "\\item[\\$significance\\_label] 'Not Significant'\n",
       "\\end{description}\n",
       "\n",
       "\\item[\\$TG] \\begin{description}\n",
       "\\item[\\$p\\_value] 0.0682488960194285\n",
       "\\item[\\$significance\\_label] 'Not Significant'\n",
       "\\end{description}\n",
       "\n",
       "\\end{description}\n"
      ],
      "text/markdown": [
       "$C4\n",
       ":   $p_value\n",
       ":   0.469323413820375\n",
       "$significance_label\n",
       ":   'Not Significant'\n",
       "\n",
       "\n",
       "\n",
       "$C8\n",
       ":   $p_value\n",
       ":   0.674525825733627\n",
       "$significance_label\n",
       ":   'Not Significant'\n",
       "\n",
       "\n",
       "\n",
       "$TG\n",
       ":   $p_value\n",
       ":   0.0682488960194285\n",
       "$significance_label\n",
       ":   'Not Significant'\n",
       "\n",
       "\n",
       "\n",
       "\n",
       "\n"
      ],
      "text/plain": [
       "$C4\n",
       "$C4$p_value\n",
       "[1] 0.4693234\n",
       "\n",
       "$C4$significance_label\n",
       "[1] \"Not Significant\"\n",
       "\n",
       "\n",
       "$C8\n",
       "$C8$p_value\n",
       "[1] 0.6745258\n",
       "\n",
       "$C8$significance_label\n",
       "[1] \"Not Significant\"\n",
       "\n",
       "\n",
       "$TG\n",
       "$TG$p_value\n",
       "[1] 0.0682489\n",
       "\n",
       "$TG$significance_label\n",
       "[1] \"Not Significant\"\n",
       "\n"
      ]
     },
     "metadata": {},
     "output_type": "display_data"
    },
    {
     "name": "stdout",
     "output_type": "stream",
     "text": [
      "[1] \"Differences in the Treatment TB between DAY 1 and DAY 8:\"\n",
      "[1] \"use Welsch T.test:\"\n",
      "   marker   p_value significance_label\n",
      "C4     C4 0.4693234    Not Significant\n",
      "C8     C8 0.6745258    Not Significant\n",
      "TG     TG 0.0682489    Not Significant\n"
     ]
    }
   ],
   "source": [
    "print(\"the results produced by the R cluster :\")\n",
    "results_list\n",
    "\n",
    "# we place these results into a dataframe \n",
    "# results_parallel_processing <- data.frame(\n",
    "#  marker = c(names(results_list[1]), names(results_list[2]), names(results_list[3])),\n",
    "#  p_value = c(results_list[[1]]$p_value, results_list[[2]]$p_value, results_list[[3]]$p_value),\n",
    "#  significance_label = c(results_list[[1]]$significance_label, results_list[[2]]$significance_label, results_list[[3]]$significance_label) \n",
    "# )\n",
    "\n",
    "# print(results_parallel_processing)\n",
    "\n",
    "# we generalize to any number of markers :\n",
    "\n",
    "results_parallel_processing.df<- data.frame(\n",
    "  marker = names(results_list),\n",
    "  p_value = sapply(results_list, function(x) x$p_value),\n",
    "  significance_label = sapply(results_list, function(x) x$significance_label)\n",
    ")\n",
    "\n",
    "print(\"Differences in the Treatment TB between DAY 1 and DAY 8:\")\n",
    "print(\"use Welsch T.test:\")\n",
    "print(results_parallel_processing.df)"
   ]
  },
  {
   "cell_type": "code",
   "execution_count": null,
   "metadata": {},
   "outputs": [],
   "source": []
  },
  {
   "cell_type": "code",
   "execution_count": null,
   "metadata": {},
   "outputs": [],
   "source": []
  },
  {
   "cell_type": "code",
   "execution_count": 23,
   "metadata": {},
   "outputs": [],
   "source": [
    "# 7. Please automate the table view for different layouts, i.e., write a function that takes the input data \n",
    "# and another parameter indicating a categorical (nominal) variable so that the output of this function \n",
    "# will produce a new table in which each level of the indicated variable become a separate column filled \n",
    "# with corresponding analyte_value and others columns remain. \n",
    "# In the data provided for the quiz, except \"analyte_value\", all other variables are factors :)"
   ]
  },
  {
   "cell_type": "code",
   "execution_count": null,
   "metadata": {},
   "outputs": [],
   "source": []
  },
  {
   "cell_type": "code",
   "execution_count": 24,
   "metadata": {},
   "outputs": [
    {
     "data": {
      "text/html": [
       "<table class=\"dataframe\">\n",
       "<caption>A data.frame: 2 × 5</caption>\n",
       "<thead>\n",
       "\t<tr><th></th><th scope=col>subject</th><th scope=col>timepoint</th><th scope=col>analyte_value</th><th scope=col>marker</th><th scope=col>treatment_group</th></tr>\n",
       "\t<tr><th></th><th scope=col>&lt;fct&gt;</th><th scope=col>&lt;fct&gt;</th><th scope=col>&lt;int&gt;</th><th scope=col>&lt;fct&gt;</th><th scope=col>&lt;fct&gt;</th></tr>\n",
       "</thead>\n",
       "<tbody>\n",
       "\t<tr><th scope=row>1</th><td>A</td><td>DAY1</td><td>169</td><td>C4</td><td>TA</td></tr>\n",
       "\t<tr><th scope=row>2</th><td>A</td><td>DAY1</td><td>207</td><td>C8</td><td>TA</td></tr>\n",
       "</tbody>\n",
       "</table>\n"
      ],
      "text/latex": [
       "A data.frame: 2 × 5\n",
       "\\begin{tabular}{r|lllll}\n",
       "  & subject & timepoint & analyte\\_value & marker & treatment\\_group\\\\\n",
       "  & <fct> & <fct> & <int> & <fct> & <fct>\\\\\n",
       "\\hline\n",
       "\t1 & A & DAY1 & 169 & C4 & TA\\\\\n",
       "\t2 & A & DAY1 & 207 & C8 & TA\\\\\n",
       "\\end{tabular}\n"
      ],
      "text/markdown": [
       "\n",
       "A data.frame: 2 × 5\n",
       "\n",
       "| <!--/--> | subject &lt;fct&gt; | timepoint &lt;fct&gt; | analyte_value &lt;int&gt; | marker &lt;fct&gt; | treatment_group &lt;fct&gt; |\n",
       "|---|---|---|---|---|---|\n",
       "| 1 | A | DAY1 | 169 | C4 | TA |\n",
       "| 2 | A | DAY1 | 207 | C8 | TA |\n",
       "\n"
      ],
      "text/plain": [
       "  subject timepoint analyte_value marker treatment_group\n",
       "1 A       DAY1      169           C4     TA             \n",
       "2 A       DAY1      207           C8     TA             "
      ]
     },
     "metadata": {},
     "output_type": "display_data"
    },
    {
     "data": {
      "text/html": [
       "<table class=\"dataframe\">\n",
       "<caption>A data.frame: 2 × 5</caption>\n",
       "<thead>\n",
       "\t<tr><th></th><th scope=col>subject</th><th scope=col>timepoint</th><th scope=col>analyte_value</th><th scope=col>marker</th><th scope=col>treatment_group</th></tr>\n",
       "\t<tr><th></th><th scope=col>&lt;fct&gt;</th><th scope=col>&lt;fct&gt;</th><th scope=col>&lt;int&gt;</th><th scope=col>&lt;fct&gt;</th><th scope=col>&lt;fct&gt;</th></tr>\n",
       "</thead>\n",
       "<tbody>\n",
       "\t<tr><th scope=row>253</th><td>U</td><td>DAY8</td><td>225</td><td>C8</td><td>TC</td></tr>\n",
       "\t<tr><th scope=row>254</th><td>U</td><td>DAY8</td><td> 76</td><td>TG</td><td>TC</td></tr>\n",
       "</tbody>\n",
       "</table>\n"
      ],
      "text/latex": [
       "A data.frame: 2 × 5\n",
       "\\begin{tabular}{r|lllll}\n",
       "  & subject & timepoint & analyte\\_value & marker & treatment\\_group\\\\\n",
       "  & <fct> & <fct> & <int> & <fct> & <fct>\\\\\n",
       "\\hline\n",
       "\t253 & U & DAY8 & 225 & C8 & TC\\\\\n",
       "\t254 & U & DAY8 &  76 & TG & TC\\\\\n",
       "\\end{tabular}\n"
      ],
      "text/markdown": [
       "\n",
       "A data.frame: 2 × 5\n",
       "\n",
       "| <!--/--> | subject &lt;fct&gt; | timepoint &lt;fct&gt; | analyte_value &lt;int&gt; | marker &lt;fct&gt; | treatment_group &lt;fct&gt; |\n",
       "|---|---|---|---|---|---|\n",
       "| 253 | U | DAY8 | 225 | C8 | TC |\n",
       "| 254 | U | DAY8 |  76 | TG | TC |\n",
       "\n"
      ],
      "text/plain": [
       "    subject timepoint analyte_value marker treatment_group\n",
       "253 U       DAY8      225           C8     TC             \n",
       "254 U       DAY8       76           TG     TC             "
      ]
     },
     "metadata": {},
     "output_type": "display_data"
    }
   ],
   "source": [
    "# we use the manin data frame x :\n",
    "\n",
    "head(x,2)\n",
    "tail(x,2)"
   ]
  },
  {
   "cell_type": "code",
   "execution_count": null,
   "metadata": {},
   "outputs": [],
   "source": []
  },
  {
   "cell_type": "code",
   "execution_count": 25,
   "metadata": {},
   "outputs": [],
   "source": [
    "table_view <- function(data, categorical_variable) {\n",
    "  \n",
    "    # Reshape the data according to the instructions :\n",
    "    reshaped_data <- data %>%\n",
    "                   pivot_wider(names_from = categorical_variable, values_from = analyte_value)\n",
    "  \n",
    "    return(reshaped_data)\n",
    "\n",
    "}"
   ]
  },
  {
   "cell_type": "code",
   "execution_count": 26,
   "metadata": {},
   "outputs": [
    {
     "name": "stderr",
     "output_type": "stream",
     "text": [
      "Warning message:\n",
      "“\u001b[1m\u001b[22mUsing an external vector in selections was deprecated in tidyselect 1.1.0.\n",
      "\u001b[36mℹ\u001b[39m Please use `all_of()` or `any_of()` instead.\n",
      "  # Was:\n",
      "  data %>% select(categorical_variable)\n",
      "\n",
      "  # Now:\n",
      "  data %>% select(all_of(categorical_variable))\n",
      "\n",
      "See <https://tidyselect.r-lib.org/reference/faq-external-vector.html>.”\n"
     ]
    },
    {
     "data": {
      "text/html": [
       "<table class=\"dataframe\">\n",
       "<caption>A data.frame: 6 × 6</caption>\n",
       "<thead>\n",
       "\t<tr><th></th><th scope=col>subject</th><th scope=col>timepoint</th><th scope=col>treatment_group</th><th scope=col>C4</th><th scope=col>C8</th><th scope=col>TG</th></tr>\n",
       "\t<tr><th></th><th scope=col>&lt;fct&gt;</th><th scope=col>&lt;fct&gt;</th><th scope=col>&lt;fct&gt;</th><th scope=col>&lt;int&gt;</th><th scope=col>&lt;int&gt;</th><th scope=col>&lt;int&gt;</th></tr>\n",
       "</thead>\n",
       "<tbody>\n",
       "\t<tr><th scope=row>1</th><td>A</td><td>DAY1</td><td>TA</td><td> 169</td><td> 207</td><td>10</td></tr>\n",
       "\t<tr><th scope=row>2</th><td>B</td><td>DAY1</td><td>TA</td><td> 636</td><td> 821</td><td>19</td></tr>\n",
       "\t<tr><th scope=row>3</th><td>F</td><td>DAY1</td><td>TA</td><td> 254</td><td>1213</td><td> 6</td></tr>\n",
       "\t<tr><th scope=row>4</th><td>L</td><td>DAY1</td><td>TA</td><td>  90</td><td>  96</td><td>NA</td></tr>\n",
       "\t<tr><th scope=row>5</th><td>M</td><td>DAY1</td><td>TA</td><td>1377</td><td>1139</td><td>42</td></tr>\n",
       "\t<tr><th scope=row>6</th><td>N</td><td>DAY1</td><td>TA</td><td> 319</td><td> 117</td><td>20</td></tr>\n",
       "</tbody>\n",
       "</table>\n"
      ],
      "text/latex": [
       "A data.frame: 6 × 6\n",
       "\\begin{tabular}{r|llllll}\n",
       "  & subject & timepoint & treatment\\_group & C4 & C8 & TG\\\\\n",
       "  & <fct> & <fct> & <fct> & <int> & <int> & <int>\\\\\n",
       "\\hline\n",
       "\t1 & A & DAY1 & TA &  169 &  207 & 10\\\\\n",
       "\t2 & B & DAY1 & TA &  636 &  821 & 19\\\\\n",
       "\t3 & F & DAY1 & TA &  254 & 1213 &  6\\\\\n",
       "\t4 & L & DAY1 & TA &   90 &   96 & NA\\\\\n",
       "\t5 & M & DAY1 & TA & 1377 & 1139 & 42\\\\\n",
       "\t6 & N & DAY1 & TA &  319 &  117 & 20\\\\\n",
       "\\end{tabular}\n"
      ],
      "text/markdown": [
       "\n",
       "A data.frame: 6 × 6\n",
       "\n",
       "| <!--/--> | subject &lt;fct&gt; | timepoint &lt;fct&gt; | treatment_group &lt;fct&gt; | C4 &lt;int&gt; | C8 &lt;int&gt; | TG &lt;int&gt; |\n",
       "|---|---|---|---|---|---|---|\n",
       "| 1 | A | DAY1 | TA |  169 |  207 | 10 |\n",
       "| 2 | B | DAY1 | TA |  636 |  821 | 19 |\n",
       "| 3 | F | DAY1 | TA |  254 | 1213 |  6 |\n",
       "| 4 | L | DAY1 | TA |   90 |   96 | NA |\n",
       "| 5 | M | DAY1 | TA | 1377 | 1139 | 42 |\n",
       "| 6 | N | DAY1 | TA |  319 |  117 | 20 |\n",
       "\n"
      ],
      "text/plain": [
       "  subject timepoint treatment_group C4   C8   TG\n",
       "1 A       DAY1      TA               169  207 10\n",
       "2 B       DAY1      TA               636  821 19\n",
       "3 F       DAY1      TA               254 1213  6\n",
       "4 L       DAY1      TA                90   96 NA\n",
       "5 M       DAY1      TA              1377 1139 42\n",
       "6 N       DAY1      TA               319  117 20"
      ]
     },
     "metadata": {},
     "output_type": "display_data"
    },
    {
     "data": {
      "text/html": [
       "<table class=\"dataframe\">\n",
       "<caption>A data.frame: 6 × 6</caption>\n",
       "<thead>\n",
       "\t<tr><th></th><th scope=col>subject</th><th scope=col>timepoint</th><th scope=col>marker</th><th scope=col>TA</th><th scope=col>TB</th><th scope=col>TC</th></tr>\n",
       "\t<tr><th></th><th scope=col>&lt;fct&gt;</th><th scope=col>&lt;fct&gt;</th><th scope=col>&lt;fct&gt;</th><th scope=col>&lt;int&gt;</th><th scope=col>&lt;int&gt;</th><th scope=col>&lt;int&gt;</th></tr>\n",
       "</thead>\n",
       "<tbody>\n",
       "\t<tr><th scope=row>1</th><td>A</td><td>DAY1</td><td>C4</td><td>169</td><td>NA</td><td>NA</td></tr>\n",
       "\t<tr><th scope=row>2</th><td>A</td><td>DAY1</td><td>C8</td><td>207</td><td>NA</td><td>NA</td></tr>\n",
       "\t<tr><th scope=row>3</th><td>A</td><td>DAY1</td><td>TG</td><td> 10</td><td>NA</td><td>NA</td></tr>\n",
       "\t<tr><th scope=row>4</th><td>B</td><td>DAY1</td><td>C4</td><td>636</td><td>NA</td><td>NA</td></tr>\n",
       "\t<tr><th scope=row>5</th><td>B</td><td>DAY1</td><td>C8</td><td>821</td><td>NA</td><td>NA</td></tr>\n",
       "\t<tr><th scope=row>6</th><td>B</td><td>DAY1</td><td>TG</td><td> 19</td><td>NA</td><td>NA</td></tr>\n",
       "</tbody>\n",
       "</table>\n"
      ],
      "text/latex": [
       "A data.frame: 6 × 6\n",
       "\\begin{tabular}{r|llllll}\n",
       "  & subject & timepoint & marker & TA & TB & TC\\\\\n",
       "  & <fct> & <fct> & <fct> & <int> & <int> & <int>\\\\\n",
       "\\hline\n",
       "\t1 & A & DAY1 & C4 & 169 & NA & NA\\\\\n",
       "\t2 & A & DAY1 & C8 & 207 & NA & NA\\\\\n",
       "\t3 & A & DAY1 & TG &  10 & NA & NA\\\\\n",
       "\t4 & B & DAY1 & C4 & 636 & NA & NA\\\\\n",
       "\t5 & B & DAY1 & C8 & 821 & NA & NA\\\\\n",
       "\t6 & B & DAY1 & TG &  19 & NA & NA\\\\\n",
       "\\end{tabular}\n"
      ],
      "text/markdown": [
       "\n",
       "A data.frame: 6 × 6\n",
       "\n",
       "| <!--/--> | subject &lt;fct&gt; | timepoint &lt;fct&gt; | marker &lt;fct&gt; | TA &lt;int&gt; | TB &lt;int&gt; | TC &lt;int&gt; |\n",
       "|---|---|---|---|---|---|---|\n",
       "| 1 | A | DAY1 | C4 | 169 | NA | NA |\n",
       "| 2 | A | DAY1 | C8 | 207 | NA | NA |\n",
       "| 3 | A | DAY1 | TG |  10 | NA | NA |\n",
       "| 4 | B | DAY1 | C4 | 636 | NA | NA |\n",
       "| 5 | B | DAY1 | C8 | 821 | NA | NA |\n",
       "| 6 | B | DAY1 | TG |  19 | NA | NA |\n",
       "\n"
      ],
      "text/plain": [
       "  subject timepoint marker TA  TB TC\n",
       "1 A       DAY1      C4     169 NA NA\n",
       "2 A       DAY1      C8     207 NA NA\n",
       "3 A       DAY1      TG      10 NA NA\n",
       "4 B       DAY1      C4     636 NA NA\n",
       "5 B       DAY1      C8     821 NA NA\n",
       "6 B       DAY1      TG      19 NA NA"
      ]
     },
     "metadata": {},
     "output_type": "display_data"
    },
    {
     "data": {
      "text/html": [
       "<table class=\"dataframe\">\n",
       "<caption>A data.frame: 6 × 8</caption>\n",
       "<thead>\n",
       "\t<tr><th></th><th scope=col>subject</th><th scope=col>marker</th><th scope=col>treatment_group</th><th scope=col>DAY1</th><th scope=col>DAY15</th><th scope=col>DAY22</th><th scope=col>DAY29</th><th scope=col>DAY8</th></tr>\n",
       "\t<tr><th></th><th scope=col>&lt;fct&gt;</th><th scope=col>&lt;fct&gt;</th><th scope=col>&lt;fct&gt;</th><th scope=col>&lt;int&gt;</th><th scope=col>&lt;int&gt;</th><th scope=col>&lt;int&gt;</th><th scope=col>&lt;int&gt;</th><th scope=col>&lt;int&gt;</th></tr>\n",
       "</thead>\n",
       "<tbody>\n",
       "\t<tr><th scope=row>1</th><td>A</td><td>C4</td><td>TA</td><td>169</td><td> 308</td><td> NA</td><td>290</td><td> 187</td></tr>\n",
       "\t<tr><th scope=row>2</th><td>A</td><td>C8</td><td>TA</td><td>207</td><td> 418</td><td> NA</td><td>479</td><td> 156</td></tr>\n",
       "\t<tr><th scope=row>3</th><td>A</td><td>TG</td><td>TA</td><td> 10</td><td>  68</td><td> NA</td><td>118</td><td>  21</td></tr>\n",
       "\t<tr><th scope=row>4</th><td>B</td><td>C4</td><td>TA</td><td>636</td><td>1151</td><td>640</td><td>118</td><td>1155</td></tr>\n",
       "\t<tr><th scope=row>5</th><td>B</td><td>C8</td><td>TA</td><td>821</td><td>1021</td><td>574</td><td>159</td><td>1035</td></tr>\n",
       "\t<tr><th scope=row>6</th><td>B</td><td>TG</td><td>TA</td><td> 19</td><td> 231</td><td>137</td><td> 25</td><td> 693</td></tr>\n",
       "</tbody>\n",
       "</table>\n"
      ],
      "text/latex": [
       "A data.frame: 6 × 8\n",
       "\\begin{tabular}{r|llllllll}\n",
       "  & subject & marker & treatment\\_group & DAY1 & DAY15 & DAY22 & DAY29 & DAY8\\\\\n",
       "  & <fct> & <fct> & <fct> & <int> & <int> & <int> & <int> & <int>\\\\\n",
       "\\hline\n",
       "\t1 & A & C4 & TA & 169 &  308 &  NA & 290 &  187\\\\\n",
       "\t2 & A & C8 & TA & 207 &  418 &  NA & 479 &  156\\\\\n",
       "\t3 & A & TG & TA &  10 &   68 &  NA & 118 &   21\\\\\n",
       "\t4 & B & C4 & TA & 636 & 1151 & 640 & 118 & 1155\\\\\n",
       "\t5 & B & C8 & TA & 821 & 1021 & 574 & 159 & 1035\\\\\n",
       "\t6 & B & TG & TA &  19 &  231 & 137 &  25 &  693\\\\\n",
       "\\end{tabular}\n"
      ],
      "text/markdown": [
       "\n",
       "A data.frame: 6 × 8\n",
       "\n",
       "| <!--/--> | subject &lt;fct&gt; | marker &lt;fct&gt; | treatment_group &lt;fct&gt; | DAY1 &lt;int&gt; | DAY15 &lt;int&gt; | DAY22 &lt;int&gt; | DAY29 &lt;int&gt; | DAY8 &lt;int&gt; |\n",
       "|---|---|---|---|---|---|---|---|---|\n",
       "| 1 | A | C4 | TA | 169 |  308 |  NA | 290 |  187 |\n",
       "| 2 | A | C8 | TA | 207 |  418 |  NA | 479 |  156 |\n",
       "| 3 | A | TG | TA |  10 |   68 |  NA | 118 |   21 |\n",
       "| 4 | B | C4 | TA | 636 | 1151 | 640 | 118 | 1155 |\n",
       "| 5 | B | C8 | TA | 821 | 1021 | 574 | 159 | 1035 |\n",
       "| 6 | B | TG | TA |  19 |  231 | 137 |  25 |  693 |\n",
       "\n"
      ],
      "text/plain": [
       "  subject marker treatment_group DAY1 DAY15 DAY22 DAY29 DAY8\n",
       "1 A       C4     TA              169   308   NA   290    187\n",
       "2 A       C8     TA              207   418   NA   479    156\n",
       "3 A       TG     TA               10    68   NA   118     21\n",
       "4 B       C4     TA              636  1151  640   118   1155\n",
       "5 B       C8     TA              821  1021  574   159   1035\n",
       "6 B       TG     TA               19   231  137    25    693"
      ]
     },
     "metadata": {},
     "output_type": "display_data"
    }
   ],
   "source": [
    "# Categorical variable : \"marker\" ; print the reshaped data\n",
    "\n",
    "reshaped_df <- table_view(x, \"marker\")\n",
    "head(as.data.frame(reshaped_df), 6)\n",
    "\n",
    "# Categorical variable : \"treatment_group\" ; print the reshaped data\n",
    "\n",
    "reshaped_df <- table_view(x, \"treatment_group\")\n",
    "head(as.data.frame(reshaped_df), 6)\n",
    "\n",
    "# Categorical variable : \"timepoint\" ; print the reshaped data\n",
    "\n",
    "reshaped_df <- table_view(x, \"timepoint\")\n",
    "head(as.data.frame(reshaped_df), 6)"
   ]
  },
  {
   "cell_type": "code",
   "execution_count": null,
   "metadata": {},
   "outputs": [],
   "source": []
  }
 ],
 "metadata": {
  "kernelspec": {
   "display_name": "R",
   "language": "R",
   "name": "ir"
  },
  "language_info": {
   "codemirror_mode": "r",
   "file_extension": ".r",
   "mimetype": "text/x-r-source",
   "name": "R",
   "pygments_lexer": "r",
   "version": "4.2.0"
  }
 },
 "nbformat": 4,
 "nbformat_minor": 4
}

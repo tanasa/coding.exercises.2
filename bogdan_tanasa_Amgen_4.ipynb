{
 "cells": [
  {
   "cell_type": "code",
   "execution_count": 31,
   "metadata": {},
   "outputs": [],
   "source": [
    "# setwd(\"home/bogdan/Desktop/Amgen_code\")\n",
    "library(ggplot2)\n",
    "library(reshape2)\n",
    "library(dplyr)\n",
    "library(tidyr)\n",
    "library(car)\n",
    "library(lmtest)\n",
    "library(nortest)\n",
    "library(multcomp)\n",
    "library(emmeans)\n",
    "# library(tidyverse)"
   ]
  },
  {
   "cell_type": "code",
   "execution_count": null,
   "metadata": {},
   "outputs": [],
   "source": []
  },
  {
   "cell_type": "code",
   "execution_count": 2,
   "metadata": {},
   "outputs": [
    {
     "data": {
      "text/html": [
       "<style>\n",
       ".list-inline {list-style: none; margin:0; padding: 0}\n",
       ".list-inline>li {display: inline-block}\n",
       ".list-inline>li:not(:last-child)::after {content: \"\\00b7\"; padding: 0 .5ex}\n",
       "</style>\n",
       "<ol class=list-inline><li>'subject'</li><li>'timepoint'</li><li>'analyte_value'</li><li>'marker'</li><li>'treatment_group'</li></ol>\n"
      ],
      "text/latex": [
       "\\begin{enumerate*}\n",
       "\\item 'subject'\n",
       "\\item 'timepoint'\n",
       "\\item 'analyte\\_value'\n",
       "\\item 'marker'\n",
       "\\item 'treatment\\_group'\n",
       "\\end{enumerate*}\n"
      ],
      "text/markdown": [
       "1. 'subject'\n",
       "2. 'timepoint'\n",
       "3. 'analyte_value'\n",
       "4. 'marker'\n",
       "5. 'treatment_group'\n",
       "\n",
       "\n"
      ],
      "text/plain": [
       "[1] \"subject\"         \"timepoint\"       \"analyte_value\"   \"marker\"         \n",
       "[5] \"treatment_group\""
      ]
     },
     "metadata": {},
     "output_type": "display_data"
    }
   ],
   "source": [
    "x = read.delim(\"input.txt\", header = T, sep=\"\\t\", stringsAsFactors = FALSE)\n",
    "colnames(x)"
   ]
  },
  {
   "cell_type": "code",
   "execution_count": null,
   "metadata": {},
   "outputs": [],
   "source": []
  },
  {
   "cell_type": "code",
   "execution_count": 3,
   "metadata": {},
   "outputs": [],
   "source": [
    "# DATA EXPLORATION, in concordance with the longitudinal treatment evaluation"
   ]
  },
  {
   "cell_type": "code",
   "execution_count": 4,
   "metadata": {},
   "outputs": [
    {
     "name": "stdout",
     "output_type": "stream",
     "text": [
      "[1] \"the subjects enrolled in the study :\"\n"
     ]
    },
    {
     "data": {
      "text/plain": [
       "\n",
       " A  B  C  D  E  F  G  H  J  K  L  M  N  P  Q  R  S  T  U  V  W \n",
       "12 15 15 15 15  9 15  3  9 15  5 12 15 15 12 12 15 12 15  6 12 "
      ]
     },
     "metadata": {},
     "output_type": "display_data"
    },
    {
     "name": "stdout",
     "output_type": "stream",
     "text": [
      "[1] \"the number of subjects is :\"\n"
     ]
    },
    {
     "data": {
      "text/html": [
       "21"
      ],
      "text/latex": [
       "21"
      ],
      "text/markdown": [
       "21"
      ],
      "text/plain": [
       "[1] 21"
      ]
     },
     "metadata": {},
     "output_type": "display_data"
    },
    {
     "name": "stdout",
     "output_type": "stream",
     "text": [
      "[1] \"the timepoints :\"\n"
     ]
    },
    {
     "data": {
      "text/plain": [
       "\n",
       " DAY1 DAY15 DAY22 DAY29  DAY8 \n",
       "   56    51    48    45    54 "
      ]
     },
     "metadata": {},
     "output_type": "display_data"
    },
    {
     "name": "stdout",
     "output_type": "stream",
     "text": [
      "[1] \"the markers :\"\n"
     ]
    },
    {
     "data": {
      "text/plain": [
       "\n",
       "C4 C8 TG \n",
       "85 85 84 "
      ]
     },
     "metadata": {},
     "output_type": "display_data"
    },
    {
     "name": "stdout",
     "output_type": "stream",
     "text": [
      "[1] \"the treatment groups :\"\n"
     ]
    },
    {
     "data": {
      "text/plain": [
       "\n",
       "TA TB TC \n",
       "83 87 84 "
      ]
     },
     "metadata": {},
     "output_type": "display_data"
    }
   ],
   "source": [
    "print(\"the subjects enrolled in the study :\")\n",
    "table(x$subject)\n",
    "print(\"the number of subjects is :\")\n",
    "length(unique(x$subject))\n",
    "print(\"the timepoints :\")\n",
    "table(x$timepoint)\n",
    "print(\"the markers :\")\n",
    "table(x$marker)\n",
    "print(\"the treatment groups :\")\n",
    "table(x$treatment_group)"
   ]
  },
  {
   "cell_type": "code",
   "execution_count": 5,
   "metadata": {},
   "outputs": [],
   "source": [
    "# coding subject, timepoint, marker, treatment_group as FACTORS\n",
    "x$subject <- factor(x$subject)\n",
    "x$timepoint <- factor(x$timepoint)\n",
    "x$marker <- factor(x$marker)\n",
    "x$treatment_group <- factor(x$treatment_group)\n",
    "\n",
    "# ensuring that 'timepoint' is a factor with the desired order\n",
    "x$timepoint <- factor(x$timepoint, levels = c(\"DAY1\", \"DAY8\", \"DAY15\", \"DAY22\", \"DAY29\"))"
   ]
  },
  {
   "cell_type": "code",
   "execution_count": 6,
   "metadata": {},
   "outputs": [
    {
     "data": {
      "text/html": [
       "<style>\n",
       ".list-inline {list-style: none; margin:0; padding: 0}\n",
       ".list-inline>li {display: inline-block}\n",
       ".list-inline>li:not(:last-child)::after {content: \"\\00b7\"; padding: 0 .5ex}\n",
       "</style>\n",
       "<ol class=list-inline><li>'subject'</li><li>'marker'</li><li>'treatment_group'</li><li>'analyte_value.DAY1'</li><li>'analyte_value.DAY15'</li><li>'analyte_value.DAY22'</li><li>'analyte_value.DAY29'</li><li>'analyte_value.DAY8'</li></ol>\n"
      ],
      "text/latex": [
       "\\begin{enumerate*}\n",
       "\\item 'subject'\n",
       "\\item 'marker'\n",
       "\\item 'treatment\\_group'\n",
       "\\item 'analyte\\_value.DAY1'\n",
       "\\item 'analyte\\_value.DAY15'\n",
       "\\item 'analyte\\_value.DAY22'\n",
       "\\item 'analyte\\_value.DAY29'\n",
       "\\item 'analyte\\_value.DAY8'\n",
       "\\end{enumerate*}\n"
      ],
      "text/markdown": [
       "1. 'subject'\n",
       "2. 'marker'\n",
       "3. 'treatment_group'\n",
       "4. 'analyte_value.DAY1'\n",
       "5. 'analyte_value.DAY15'\n",
       "6. 'analyte_value.DAY22'\n",
       "7. 'analyte_value.DAY29'\n",
       "8. 'analyte_value.DAY8'\n",
       "\n",
       "\n"
      ],
      "text/plain": [
       "[1] \"subject\"             \"marker\"              \"treatment_group\"    \n",
       "[4] \"analyte_value.DAY1\"  \"analyte_value.DAY15\" \"analyte_value.DAY22\"\n",
       "[7] \"analyte_value.DAY29\" \"analyte_value.DAY8\" "
      ]
     },
     "metadata": {},
     "output_type": "display_data"
    },
    {
     "data": {
      "text/html": [
       "<table class=\"dataframe\">\n",
       "<caption>A data.frame: 2 × 8</caption>\n",
       "<thead>\n",
       "\t<tr><th></th><th scope=col>subject</th><th scope=col>marker</th><th scope=col>treatment_group</th><th scope=col>analyte_value.DAY1</th><th scope=col>analyte_value.DAY15</th><th scope=col>analyte_value.DAY22</th><th scope=col>analyte_value.DAY29</th><th scope=col>analyte_value.DAY8</th></tr>\n",
       "\t<tr><th></th><th scope=col>&lt;fct&gt;</th><th scope=col>&lt;fct&gt;</th><th scope=col>&lt;fct&gt;</th><th scope=col>&lt;int&gt;</th><th scope=col>&lt;int&gt;</th><th scope=col>&lt;int&gt;</th><th scope=col>&lt;int&gt;</th><th scope=col>&lt;int&gt;</th></tr>\n",
       "</thead>\n",
       "<tbody>\n",
       "\t<tr><th scope=row>1</th><td>A</td><td>C4</td><td>TA</td><td>169</td><td>308</td><td>NA</td><td>290</td><td>187</td></tr>\n",
       "\t<tr><th scope=row>2</th><td>A</td><td>C8</td><td>TA</td><td>207</td><td>418</td><td>NA</td><td>479</td><td>156</td></tr>\n",
       "</tbody>\n",
       "</table>\n"
      ],
      "text/latex": [
       "A data.frame: 2 × 8\n",
       "\\begin{tabular}{r|llllllll}\n",
       "  & subject & marker & treatment\\_group & analyte\\_value.DAY1 & analyte\\_value.DAY15 & analyte\\_value.DAY22 & analyte\\_value.DAY29 & analyte\\_value.DAY8\\\\\n",
       "  & <fct> & <fct> & <fct> & <int> & <int> & <int> & <int> & <int>\\\\\n",
       "\\hline\n",
       "\t1 & A & C4 & TA & 169 & 308 & NA & 290 & 187\\\\\n",
       "\t2 & A & C8 & TA & 207 & 418 & NA & 479 & 156\\\\\n",
       "\\end{tabular}\n"
      ],
      "text/markdown": [
       "\n",
       "A data.frame: 2 × 8\n",
       "\n",
       "| <!--/--> | subject &lt;fct&gt; | marker &lt;fct&gt; | treatment_group &lt;fct&gt; | analyte_value.DAY1 &lt;int&gt; | analyte_value.DAY15 &lt;int&gt; | analyte_value.DAY22 &lt;int&gt; | analyte_value.DAY29 &lt;int&gt; | analyte_value.DAY8 &lt;int&gt; |\n",
       "|---|---|---|---|---|---|---|---|---|\n",
       "| 1 | A | C4 | TA | 169 | 308 | NA | 290 | 187 |\n",
       "| 2 | A | C8 | TA | 207 | 418 | NA | 479 | 156 |\n",
       "\n"
      ],
      "text/plain": [
       "  subject marker treatment_group analyte_value.DAY1 analyte_value.DAY15\n",
       "1 A       C4     TA              169                308                \n",
       "2 A       C8     TA              207                418                \n",
       "  analyte_value.DAY22 analyte_value.DAY29 analyte_value.DAY8\n",
       "1 NA                  290                 187               \n",
       "2 NA                  479                 156               "
      ]
     },
     "metadata": {},
     "output_type": "display_data"
    },
    {
     "data": {
      "text/html": [
       "<table class=\"dataframe\">\n",
       "<caption>A data.frame: 2 × 8</caption>\n",
       "<thead>\n",
       "\t<tr><th></th><th scope=col>subject</th><th scope=col>marker</th><th scope=col>treatment_group</th><th scope=col>analyte_value.DAY1</th><th scope=col>analyte_value.DAY15</th><th scope=col>analyte_value.DAY22</th><th scope=col>analyte_value.DAY29</th><th scope=col>analyte_value.DAY8</th></tr>\n",
       "\t<tr><th></th><th scope=col>&lt;fct&gt;</th><th scope=col>&lt;fct&gt;</th><th scope=col>&lt;fct&gt;</th><th scope=col>&lt;int&gt;</th><th scope=col>&lt;int&gt;</th><th scope=col>&lt;int&gt;</th><th scope=col>&lt;int&gt;</th><th scope=col>&lt;int&gt;</th></tr>\n",
       "</thead>\n",
       "<tbody>\n",
       "\t<tr><th scope=row>190</th><td>W</td><td>C8</td><td>TC</td><td>407</td><td>499</td><td>396</td><td>421</td><td>NA</td></tr>\n",
       "\t<tr><th scope=row>191</th><td>W</td><td>TG</td><td>TC</td><td> 36</td><td>338</td><td>221</td><td> 99</td><td>NA</td></tr>\n",
       "</tbody>\n",
       "</table>\n"
      ],
      "text/latex": [
       "A data.frame: 2 × 8\n",
       "\\begin{tabular}{r|llllllll}\n",
       "  & subject & marker & treatment\\_group & analyte\\_value.DAY1 & analyte\\_value.DAY15 & analyte\\_value.DAY22 & analyte\\_value.DAY29 & analyte\\_value.DAY8\\\\\n",
       "  & <fct> & <fct> & <fct> & <int> & <int> & <int> & <int> & <int>\\\\\n",
       "\\hline\n",
       "\t190 & W & C8 & TC & 407 & 499 & 396 & 421 & NA\\\\\n",
       "\t191 & W & TG & TC &  36 & 338 & 221 &  99 & NA\\\\\n",
       "\\end{tabular}\n"
      ],
      "text/markdown": [
       "\n",
       "A data.frame: 2 × 8\n",
       "\n",
       "| <!--/--> | subject &lt;fct&gt; | marker &lt;fct&gt; | treatment_group &lt;fct&gt; | analyte_value.DAY1 &lt;int&gt; | analyte_value.DAY15 &lt;int&gt; | analyte_value.DAY22 &lt;int&gt; | analyte_value.DAY29 &lt;int&gt; | analyte_value.DAY8 &lt;int&gt; |\n",
       "|---|---|---|---|---|---|---|---|---|\n",
       "| 190 | W | C8 | TC | 407 | 499 | 396 | 421 | NA |\n",
       "| 191 | W | TG | TC |  36 | 338 | 221 |  99 | NA |\n",
       "\n"
      ],
      "text/plain": [
       "    subject marker treatment_group analyte_value.DAY1 analyte_value.DAY15\n",
       "190 W       C8     TC              407                499                \n",
       "191 W       TG     TC               36                338                \n",
       "    analyte_value.DAY22 analyte_value.DAY29 analyte_value.DAY8\n",
       "190 396                 421                 NA                \n",
       "191 221                  99                 NA                "
      ]
     },
     "metadata": {},
     "output_type": "display_data"
    }
   ],
   "source": [
    "# reformatting the data by using reshape2 package :\n",
    "\n",
    "x_wide <- reshape(\n",
    "  x,\n",
    "  idvar = c(\"subject\", \"marker\", \"treatment_group\"),  # Variables to keep constant\n",
    "  timevar = \"timepoint\",                              # Variable that will become columns\n",
    "  direction = \"wide\",                                 # Convert from long to wide format\n",
    "  v.names = \"analyte_value\"                           # Values to spread across the new columns\n",
    ")\n",
    "\n",
    "# Print the transformed data\n",
    "colnames(x_wide)\n",
    "head(x_wide, 2)\n",
    "tail(x_wide, 2)"
   ]
  },
  {
   "cell_type": "code",
   "execution_count": null,
   "metadata": {},
   "outputs": [],
   "source": []
  },
  {
   "cell_type": "code",
   "execution_count": 7,
   "metadata": {},
   "outputs": [],
   "source": [
    "# 4. Please test for each marker whether Day 8 and Day 1 readouts are different at alpha = 0.05 under each treatment"
   ]
  },
  {
   "cell_type": "code",
   "execution_count": null,
   "metadata": {},
   "outputs": [],
   "source": []
  },
  {
   "cell_type": "code",
   "execution_count": 8,
   "metadata": {},
   "outputs": [
    {
     "name": "stdout",
     "output_type": "stream",
     "text": [
      "[1] \"the markers that are present :\"\n"
     ]
    },
    {
     "data": {
      "text/plain": [
       "\n",
       "C4 C8 TG \n",
       "21 21 21 "
      ]
     },
     "metadata": {},
     "output_type": "display_data"
    },
    {
     "data": {
      "text/html": [
       "<table class=\"dataframe\">\n",
       "<caption>A data.frame: 2 × 5</caption>\n",
       "<thead>\n",
       "\t<tr><th></th><th scope=col>subject</th><th scope=col>marker</th><th scope=col>treatment_group</th><th scope=col>analyte_value.DAY1</th><th scope=col>analyte_value.DAY8</th></tr>\n",
       "\t<tr><th></th><th scope=col>&lt;fct&gt;</th><th scope=col>&lt;fct&gt;</th><th scope=col>&lt;fct&gt;</th><th scope=col>&lt;int&gt;</th><th scope=col>&lt;int&gt;</th></tr>\n",
       "</thead>\n",
       "<tbody>\n",
       "\t<tr><th scope=row>1</th><td>A</td><td>C4</td><td>TA</td><td>169</td><td>187</td></tr>\n",
       "\t<tr><th scope=row>2</th><td>A</td><td>C8</td><td>TA</td><td>207</td><td>156</td></tr>\n",
       "</tbody>\n",
       "</table>\n"
      ],
      "text/latex": [
       "A data.frame: 2 × 5\n",
       "\\begin{tabular}{r|lllll}\n",
       "  & subject & marker & treatment\\_group & analyte\\_value.DAY1 & analyte\\_value.DAY8\\\\\n",
       "  & <fct> & <fct> & <fct> & <int> & <int>\\\\\n",
       "\\hline\n",
       "\t1 & A & C4 & TA & 169 & 187\\\\\n",
       "\t2 & A & C8 & TA & 207 & 156\\\\\n",
       "\\end{tabular}\n"
      ],
      "text/markdown": [
       "\n",
       "A data.frame: 2 × 5\n",
       "\n",
       "| <!--/--> | subject &lt;fct&gt; | marker &lt;fct&gt; | treatment_group &lt;fct&gt; | analyte_value.DAY1 &lt;int&gt; | analyte_value.DAY8 &lt;int&gt; |\n",
       "|---|---|---|---|---|---|\n",
       "| 1 | A | C4 | TA | 169 | 187 |\n",
       "| 2 | A | C8 | TA | 207 | 156 |\n",
       "\n"
      ],
      "text/plain": [
       "  subject marker treatment_group analyte_value.DAY1 analyte_value.DAY8\n",
       "1 A       C4     TA              169                187               \n",
       "2 A       C8     TA              207                156               "
      ]
     },
     "metadata": {},
     "output_type": "display_data"
    },
    {
     "data": {
      "text/html": [
       "<table class=\"dataframe\">\n",
       "<caption>A data.frame: 2 × 5</caption>\n",
       "<thead>\n",
       "\t<tr><th></th><th scope=col>subject</th><th scope=col>marker</th><th scope=col>treatment_group</th><th scope=col>analyte_value.DAY1</th><th scope=col>analyte_value.DAY8</th></tr>\n",
       "\t<tr><th></th><th scope=col>&lt;fct&gt;</th><th scope=col>&lt;fct&gt;</th><th scope=col>&lt;fct&gt;</th><th scope=col>&lt;int&gt;</th><th scope=col>&lt;int&gt;</th></tr>\n",
       "</thead>\n",
       "<tbody>\n",
       "\t<tr><th scope=row>190</th><td>W</td><td>C8</td><td>TC</td><td>407</td><td>NA</td></tr>\n",
       "\t<tr><th scope=row>191</th><td>W</td><td>TG</td><td>TC</td><td> 36</td><td>NA</td></tr>\n",
       "</tbody>\n",
       "</table>\n"
      ],
      "text/latex": [
       "A data.frame: 2 × 5\n",
       "\\begin{tabular}{r|lllll}\n",
       "  & subject & marker & treatment\\_group & analyte\\_value.DAY1 & analyte\\_value.DAY8\\\\\n",
       "  & <fct> & <fct> & <fct> & <int> & <int>\\\\\n",
       "\\hline\n",
       "\t190 & W & C8 & TC & 407 & NA\\\\\n",
       "\t191 & W & TG & TC &  36 & NA\\\\\n",
       "\\end{tabular}\n"
      ],
      "text/markdown": [
       "\n",
       "A data.frame: 2 × 5\n",
       "\n",
       "| <!--/--> | subject &lt;fct&gt; | marker &lt;fct&gt; | treatment_group &lt;fct&gt; | analyte_value.DAY1 &lt;int&gt; | analyte_value.DAY8 &lt;int&gt; |\n",
       "|---|---|---|---|---|---|\n",
       "| 190 | W | C8 | TC | 407 | NA |\n",
       "| 191 | W | TG | TC |  36 | NA |\n",
       "\n"
      ],
      "text/plain": [
       "    subject marker treatment_group analyte_value.DAY1 analyte_value.DAY8\n",
       "190 W       C8     TC              407                NA                \n",
       "191 W       TG     TC               36                NA                "
      ]
     },
     "metadata": {},
     "output_type": "display_data"
    }
   ],
   "source": [
    "# we select the relevant columns :\n",
    "#                        subject, \n",
    "#                        marker,\n",
    "#                        treatment_group,\n",
    "#                        analyte_value.DAY1,\n",
    "#                        analyte_value.DAY8\n",
    "\n",
    "\n",
    "a <- x_wide %>% dplyr::select(subject, \n",
    "                        marker,\n",
    "                        treatment_group,\n",
    "                        analyte_value.DAY1,\n",
    "                        analyte_value.DAY8)\n",
    "\n",
    "print(\"the markers that are present :\")\n",
    "table(a$marker)\n",
    "\n",
    "head(a, 2)\n",
    "tail(a, 2)"
   ]
  },
  {
   "cell_type": "code",
   "execution_count": null,
   "metadata": {},
   "outputs": [],
   "source": []
  },
  {
   "cell_type": "code",
   "execution_count": 9,
   "metadata": {},
   "outputs": [],
   "source": [
    "# In order to determine the type of statistical test to use (T-test, Welch T-test, Wilcoxon signed rank test) \n",
    "# we check :\n",
    "# NORMAL DISTRIBUTION of ANALYTE_VALUES\n",
    "# HOMOSCEDASTICITY or HETEROSCEDASTICITY of ANALYTE_VALUES"
   ]
  },
  {
   "cell_type": "code",
   "execution_count": null,
   "metadata": {},
   "outputs": [],
   "source": []
  },
  {
   "cell_type": "code",
   "execution_count": 10,
   "metadata": {},
   "outputs": [],
   "source": [
    "# NORMAL DISTRIBUTION of ANALYTE_VALUES"
   ]
  },
  {
   "cell_type": "code",
   "execution_count": null,
   "metadata": {},
   "outputs": [],
   "source": []
  },
  {
   "cell_type": "code",
   "execution_count": 11,
   "metadata": {},
   "outputs": [],
   "source": [
    "# which test to use to assess normal distribution of the data ?\n",
    "\n",
    "# Shapiro-Wilk : it is widely used and generally recommended for smaller sample sizes.\n",
    "\n",
    "# Anderson-Darling Test : it is more robust in detecting deviations from normality in larger samples.\n",
    "\n",
    "# !!! In our case, we can not apply AD test, because the sample size must be greater than 7."
   ]
  },
  {
   "cell_type": "code",
   "execution_count": 12,
   "metadata": {},
   "outputs": [
    {
     "name": "stdout",
     "output_type": "stream",
     "text": [
      "   subject marker treatment_group analyte_value.DAY1 analyte_value.DAY8\n",
      "1        C     C4              TB               2328               2534\n",
      "2        C     C8              TB               6456               6384\n",
      "3        C     TG              TB                 27                 71\n",
      "4        D     C4              TB                117                304\n",
      "5        D     C8              TB               1209               1711\n",
      "6        D     TG              TB                 13                 29\n",
      "7        E     C4              TB                162                254\n",
      "8        E     C8              TB                466                462\n",
      "9        E     TG              TB                  8                 50\n",
      "10       G     C4              TB                436                657\n",
      "11       G     C8              TB                245                522\n",
      "12       G     TG              TB                132                270\n",
      "13       K     C4              TB                767                391\n",
      "14       K     C8              TB                529                325\n",
      "15       K     TG              TB                 61                326\n",
      "16       J     C4              TB                 NA               1405\n",
      "17       J     C8              TB                 NA               6711\n",
      "18       J     TG              TB                 NA                230\n",
      "19       H     C4              TB                 NA               2856\n",
      "20       H     C8              TB                 NA               1185\n",
      "21       H     TG              TB                 NA                645\n"
     ]
    }
   ],
   "source": [
    "a_ta <- a %>% filter(treatment_group == \"TA\")\n",
    "# head(a_ta, 2)\n",
    "# tail(a_ta, 2)\n",
    "\n",
    "a_tc <- a %>% filter(treatment_group == \"TC\")\n",
    "# head(a_tc, 2)\n",
    "# tail(a_tc, 2)\n",
    "\n",
    "a_tb <- a %>% filter(treatment_group == \"TB\")\n",
    "print(a_tb)"
   ]
  },
  {
   "cell_type": "code",
   "execution_count": 13,
   "metadata": {},
   "outputs": [
    {
     "name": "stdout",
     "output_type": "stream",
     "text": [
      "\u001b[90m# A tibble: 3 × 5\u001b[39m\n",
      "  marker shapiro_day1_p_value shapiro_day8_p_value day1_normal       day8_normal\n",
      "  \u001b[3m\u001b[90m<fct>\u001b[39m\u001b[23m                 \u001b[3m\u001b[90m<dbl>\u001b[39m\u001b[23m                \u001b[3m\u001b[90m<dbl>\u001b[39m\u001b[23m \u001b[3m\u001b[90m<chr>\u001b[39m\u001b[23m             \u001b[3m\u001b[90m<chr>\u001b[39m\u001b[23m      \n",
      "\u001b[90m1\u001b[39m C4                   0.022\u001b[4m6\u001b[24m               0.625  Not Normal distr… Normal dis…\n",
      "\u001b[90m2\u001b[39m C8                   0.036\u001b[4m7\u001b[24m               0.052\u001b[4m3\u001b[24m Not Normal distr… Normal dis…\n",
      "\u001b[90m3\u001b[39m TG                   0.768                0.030\u001b[4m7\u001b[24m Normal distrib    Not Normal…\n"
     ]
    }
   ],
   "source": [
    "sw_normality_results_a_ta <- a_ta %>%\n",
    "  group_by(marker) %>%\n",
    "  summarize(\n",
    "    shapiro_day1_p_value = shapiro.test(analyte_value.DAY1)$p.value,\n",
    "    shapiro_day8_p_value = shapiro.test(analyte_value.DAY8)$p.value,\n",
    "    day1_normal = ifelse(shapiro_day1_p_value >= 0.05, \"Normal distrib\", \"Not Normal distrib\"),\n",
    "    day8_normal = ifelse(shapiro_day8_p_value >= 0.05, \"Normal distrib\", \"Not Normal distrib\"),\n",
    "    .groups = 'drop'\n",
    "  )\n",
    "\n",
    "# View the results\n",
    "print(sw_normality_results_a_ta)"
   ]
  },
  {
   "cell_type": "code",
   "execution_count": 14,
   "metadata": {},
   "outputs": [
    {
     "name": "stdout",
     "output_type": "stream",
     "text": [
      "\u001b[90m# A tibble: 3 × 5\u001b[39m\n",
      "  marker shapiro_day1_p_value shapiro_day8_p_value day1_normal       day8_normal\n",
      "  \u001b[3m\u001b[90m<fct>\u001b[39m\u001b[23m                 \u001b[3m\u001b[90m<dbl>\u001b[39m\u001b[23m                \u001b[3m\u001b[90m<dbl>\u001b[39m\u001b[23m \u001b[3m\u001b[90m<chr>\u001b[39m\u001b[23m             \u001b[3m\u001b[90m<chr>\u001b[39m\u001b[23m      \n",
      "\u001b[90m1\u001b[39m C4                  0.058\u001b[4m1\u001b[24m               0.072\u001b[4m9\u001b[24m  Normal distrib    Normal dis…\n",
      "\u001b[90m2\u001b[39m C8                  0.004\u001b[4m1\u001b[24m\u001b[4m3\u001b[24m              0.009\u001b[4m0\u001b[24m\u001b[4m5\u001b[24m Not Normal distr… Not Normal…\n",
      "\u001b[90m3\u001b[39m TG                  0.171                0.199   Normal distrib    Normal dis…\n"
     ]
    }
   ],
   "source": [
    "sw_normality_results_a_tb <- a_tb %>%\n",
    "  group_by(marker) %>%\n",
    "  summarize(\n",
    "    shapiro_day1_p_value = shapiro.test(analyte_value.DAY1)$p.value,\n",
    "    shapiro_day8_p_value = shapiro.test(analyte_value.DAY8)$p.value,\n",
    "    day1_normal = ifelse(shapiro_day1_p_value >= 0.05, \"Normal distrib\", \"Not Normal distrib\"),\n",
    "    day8_normal = ifelse(shapiro_day8_p_value >= 0.05, \"Normal distrib\", \"Not Normal distrib\"),\n",
    "    .groups = 'drop'\n",
    "  )\n",
    "\n",
    "# View the results\n",
    "print(sw_normality_results_a_tb)"
   ]
  },
  {
   "cell_type": "code",
   "execution_count": 15,
   "metadata": {},
   "outputs": [
    {
     "name": "stdout",
     "output_type": "stream",
     "text": [
      "\u001b[90m# A tibble: 3 × 5\u001b[39m\n",
      "  marker shapiro_day1_p_value shapiro_day8_p_value day1_normal       day8_normal\n",
      "  \u001b[3m\u001b[90m<fct>\u001b[39m\u001b[23m                 \u001b[3m\u001b[90m<dbl>\u001b[39m\u001b[23m                \u001b[3m\u001b[90m<dbl>\u001b[39m\u001b[23m \u001b[3m\u001b[90m<chr>\u001b[39m\u001b[23m             \u001b[3m\u001b[90m<chr>\u001b[39m\u001b[23m      \n",
      "\u001b[90m1\u001b[39m C4                 0.059\u001b[4m2\u001b[24m                  0.919 Normal distrib    Normal dis…\n",
      "\u001b[90m2\u001b[39m C8                 0.000\u001b[4m3\u001b[24m\u001b[4m1\u001b[24m\u001b[4m8\u001b[24m                0.883 Not Normal distr… Normal dis…\n",
      "\u001b[90m3\u001b[39m TG                 0.900                   0.885 Normal distrib    Normal dis…\n"
     ]
    }
   ],
   "source": [
    "sw_normality_results_a_tc <- a_tc %>%\n",
    "  group_by(marker) %>%\n",
    "  summarize(\n",
    "    shapiro_day1_p_value = shapiro.test(analyte_value.DAY1)$p.value,\n",
    "    shapiro_day8_p_value = shapiro.test(analyte_value.DAY8)$p.value,\n",
    "    day1_normal = ifelse(shapiro_day1_p_value >= 0.05, \"Normal distrib\", \"Not Normal distrib\"),\n",
    "    day8_normal = ifelse(shapiro_day8_p_value >= 0.05, \"Normal distrib\", \"Not Normal distrib\"),\n",
    "    .groups = 'drop'\n",
    "  )\n",
    "\n",
    "# View the results\n",
    "print(sw_normality_results_a_tc)"
   ]
  },
  {
   "cell_type": "code",
   "execution_count": null,
   "metadata": {},
   "outputs": [],
   "source": []
  },
  {
   "cell_type": "code",
   "execution_count": 16,
   "metadata": {},
   "outputs": [],
   "source": [
    "# CONCLUSIONS :\n",
    "# with a few exceptions, these tests inform us that the analyte values data at Day 1 and Day 8 is NORMALLY DISTRIBUTED"
   ]
  },
  {
   "cell_type": "code",
   "execution_count": null,
   "metadata": {},
   "outputs": [],
   "source": []
  },
  {
   "cell_type": "code",
   "execution_count": 17,
   "metadata": {},
   "outputs": [],
   "source": [
    "# HOMOSCEDASTICITY or HETEROSCEDASTICITY of ANALYTE_VALUES"
   ]
  },
  {
   "cell_type": "code",
   "execution_count": null,
   "metadata": {},
   "outputs": [],
   "source": []
  },
  {
   "cell_type": "code",
   "execution_count": 18,
   "metadata": {},
   "outputs": [],
   "source": [
    "# Next, we check the equality between variances for each marker analyte_values at Day 1 and Day 8. \n",
    "\n",
    "# There are many statistical tests that we can use : \n",
    "# F-test (var.test)\n",
    "# Levene test\n",
    "# Bartlett's Test\n",
    "# Fligner-Killeen Test\n",
    "\n",
    "# I have noted that the results that we obtain with each of these tests are relatively similar."
   ]
  },
  {
   "cell_type": "code",
   "execution_count": null,
   "metadata": {},
   "outputs": [],
   "source": []
  },
  {
   "cell_type": "code",
   "execution_count": 19,
   "metadata": {},
   "outputs": [
    {
     "name": "stdout",
     "output_type": "stream",
     "text": [
      "[1] \"Equality in the variances between Markers between Day 1 and Day 8, under treatment TC\"\n",
      "[1] \"F-test (var.test)\"\n"
     ]
    },
    {
     "data": {
      "text/html": [
       "<table class=\"dataframe\">\n",
       "<caption>A tibble: 3 × 3</caption>\n",
       "<thead>\n",
       "\t<tr><th scope=col>marker</th><th scope=col>p_value</th><th scope=col>significance</th></tr>\n",
       "\t<tr><th scope=col>&lt;fct&gt;</th><th scope=col>&lt;dbl&gt;</th><th scope=col>&lt;chr&gt;</th></tr>\n",
       "</thead>\n",
       "<tbody>\n",
       "\t<tr><td>C4</td><td>5.985968e-01</td><td>Not Significant</td></tr>\n",
       "\t<tr><td>C8</td><td>1.154033e-01</td><td>Not Significant</td></tr>\n",
       "\t<tr><td>TG</td><td>3.769659e-06</td><td>Significant    </td></tr>\n",
       "</tbody>\n",
       "</table>\n"
      ],
      "text/latex": [
       "A tibble: 3 × 3\n",
       "\\begin{tabular}{lll}\n",
       " marker & p\\_value & significance\\\\\n",
       " <fct> & <dbl> & <chr>\\\\\n",
       "\\hline\n",
       "\t C4 & 5.985968e-01 & Not Significant\\\\\n",
       "\t C8 & 1.154033e-01 & Not Significant\\\\\n",
       "\t TG & 3.769659e-06 & Significant    \\\\\n",
       "\\end{tabular}\n"
      ],
      "text/markdown": [
       "\n",
       "A tibble: 3 × 3\n",
       "\n",
       "| marker &lt;fct&gt; | p_value &lt;dbl&gt; | significance &lt;chr&gt; |\n",
       "|---|---|---|\n",
       "| C4 | 5.985968e-01 | Not Significant |\n",
       "| C8 | 1.154033e-01 | Not Significant |\n",
       "| TG | 3.769659e-06 | Significant     |\n",
       "\n"
      ],
      "text/plain": [
       "  marker p_value      significance   \n",
       "1 C4     5.985968e-01 Not Significant\n",
       "2 C8     1.154033e-01 Not Significant\n",
       "3 TG     3.769659e-06 Significant    "
      ]
     },
     "metadata": {},
     "output_type": "display_data"
    },
    {
     "name": "stderr",
     "output_type": "stream",
     "text": [
      "Warning message:\n",
      "“\u001b[1m\u001b[22mThere were 3 warnings in `summarize()`.\n",
      "The first warning was:\n",
      "\u001b[1m\u001b[22m\u001b[36mℹ\u001b[39m In argument: `p_value = leveneTest(value ~ day)$\"Pr(>F)\"[1]`.\n",
      "\u001b[36mℹ\u001b[39m In group 1: `marker = C4`.\n",
      "Caused by warning in `leveneTest.default()`:\n",
      "\u001b[33m!\u001b[39m group coerced to factor.\n",
      "\u001b[1m\u001b[22m\u001b[36mℹ\u001b[39m Run `dplyr::last_dplyr_warnings()` to see the 2 remaining warnings.”\n"
     ]
    },
    {
     "name": "stdout",
     "output_type": "stream",
     "text": [
      "[1] \"Equality in the variances between Markers between Day 1 and Day 8, under treatment TC\"\n",
      "[1] \"Levene's test\"\n"
     ]
    },
    {
     "data": {
      "text/html": [
       "<table class=\"dataframe\">\n",
       "<caption>A tibble: 3 × 3</caption>\n",
       "<thead>\n",
       "\t<tr><th scope=col>marker</th><th scope=col>p_value</th><th scope=col>significance</th></tr>\n",
       "\t<tr><th scope=col>&lt;fct&gt;</th><th scope=col>&lt;dbl&gt;</th><th scope=col>&lt;chr&gt;</th></tr>\n",
       "</thead>\n",
       "<tbody>\n",
       "\t<tr><td>C4</td><td>0.3372212</td><td>Not Significant</td></tr>\n",
       "\t<tr><td>C8</td><td>0.4657139</td><td>Not Significant</td></tr>\n",
       "\t<tr><td>TG</td><td>0.1311042</td><td>Not Significant</td></tr>\n",
       "</tbody>\n",
       "</table>\n"
      ],
      "text/latex": [
       "A tibble: 3 × 3\n",
       "\\begin{tabular}{lll}\n",
       " marker & p\\_value & significance\\\\\n",
       " <fct> & <dbl> & <chr>\\\\\n",
       "\\hline\n",
       "\t C4 & 0.3372212 & Not Significant\\\\\n",
       "\t C8 & 0.4657139 & Not Significant\\\\\n",
       "\t TG & 0.1311042 & Not Significant\\\\\n",
       "\\end{tabular}\n"
      ],
      "text/markdown": [
       "\n",
       "A tibble: 3 × 3\n",
       "\n",
       "| marker &lt;fct&gt; | p_value &lt;dbl&gt; | significance &lt;chr&gt; |\n",
       "|---|---|---|\n",
       "| C4 | 0.3372212 | Not Significant |\n",
       "| C8 | 0.4657139 | Not Significant |\n",
       "| TG | 0.1311042 | Not Significant |\n",
       "\n"
      ],
      "text/plain": [
       "  marker p_value   significance   \n",
       "1 C4     0.3372212 Not Significant\n",
       "2 C8     0.4657139 Not Significant\n",
       "3 TG     0.1311042 Not Significant"
      ]
     },
     "metadata": {},
     "output_type": "display_data"
    },
    {
     "name": "stdout",
     "output_type": "stream",
     "text": [
      "[1] \"Equality in the variances between Markers between Day 1 and Day 8, under treatment TC\"\n",
      "[1] \"Bartlett's test\"\n"
     ]
    },
    {
     "data": {
      "text/html": [
       "<table class=\"dataframe\">\n",
       "<caption>A tibble: 3 × 3</caption>\n",
       "<thead>\n",
       "\t<tr><th scope=col>marker</th><th scope=col>p_value</th><th scope=col>significance</th></tr>\n",
       "\t<tr><th scope=col>&lt;fct&gt;</th><th scope=col>&lt;dbl&gt;</th><th scope=col>&lt;chr&gt;</th></tr>\n",
       "</thead>\n",
       "<tbody>\n",
       "\t<tr><td>C4</td><td>5.981315e-01</td><td>Not Significant</td></tr>\n",
       "\t<tr><td>C8</td><td>1.154739e-01</td><td>Not Significant</td></tr>\n",
       "\t<tr><td>TG</td><td>4.618350e-06</td><td>Significant    </td></tr>\n",
       "</tbody>\n",
       "</table>\n"
      ],
      "text/latex": [
       "A tibble: 3 × 3\n",
       "\\begin{tabular}{lll}\n",
       " marker & p\\_value & significance\\\\\n",
       " <fct> & <dbl> & <chr>\\\\\n",
       "\\hline\n",
       "\t C4 & 5.981315e-01 & Not Significant\\\\\n",
       "\t C8 & 1.154739e-01 & Not Significant\\\\\n",
       "\t TG & 4.618350e-06 & Significant    \\\\\n",
       "\\end{tabular}\n"
      ],
      "text/markdown": [
       "\n",
       "A tibble: 3 × 3\n",
       "\n",
       "| marker &lt;fct&gt; | p_value &lt;dbl&gt; | significance &lt;chr&gt; |\n",
       "|---|---|---|\n",
       "| C4 | 5.981315e-01 | Not Significant |\n",
       "| C8 | 1.154739e-01 | Not Significant |\n",
       "| TG | 4.618350e-06 | Significant     |\n",
       "\n"
      ],
      "text/plain": [
       "  marker p_value      significance   \n",
       "1 C4     5.981315e-01 Not Significant\n",
       "2 C8     1.154739e-01 Not Significant\n",
       "3 TG     4.618350e-06 Significant    "
      ]
     },
     "metadata": {},
     "output_type": "display_data"
    },
    {
     "name": "stdout",
     "output_type": "stream",
     "text": [
      "[1] \"Equality in the variances between Markers between Day 1 and Day 8, under treatment TC\"\n",
      "[1] \"Fligner-Killeen\"\n"
     ]
    },
    {
     "data": {
      "text/html": [
       "<table class=\"dataframe\">\n",
       "<caption>A tibble: 3 × 3</caption>\n",
       "<thead>\n",
       "\t<tr><th scope=col>marker</th><th scope=col>p_value</th><th scope=col>significance</th></tr>\n",
       "\t<tr><th scope=col>&lt;fct&gt;</th><th scope=col>&lt;dbl&gt;</th><th scope=col>&lt;chr&gt;</th></tr>\n",
       "</thead>\n",
       "<tbody>\n",
       "\t<tr><td>C4</td><td>0.30342416</td><td>Not Significant</td></tr>\n",
       "\t<tr><td>C8</td><td>0.75953400</td><td>Not Significant</td></tr>\n",
       "\t<tr><td>TG</td><td>0.08229296</td><td>Not Significant</td></tr>\n",
       "</tbody>\n",
       "</table>\n"
      ],
      "text/latex": [
       "A tibble: 3 × 3\n",
       "\\begin{tabular}{lll}\n",
       " marker & p\\_value & significance\\\\\n",
       " <fct> & <dbl> & <chr>\\\\\n",
       "\\hline\n",
       "\t C4 & 0.30342416 & Not Significant\\\\\n",
       "\t C8 & 0.75953400 & Not Significant\\\\\n",
       "\t TG & 0.08229296 & Not Significant\\\\\n",
       "\\end{tabular}\n"
      ],
      "text/markdown": [
       "\n",
       "A tibble: 3 × 3\n",
       "\n",
       "| marker &lt;fct&gt; | p_value &lt;dbl&gt; | significance &lt;chr&gt; |\n",
       "|---|---|---|\n",
       "| C4 | 0.30342416 | Not Significant |\n",
       "| C8 | 0.75953400 | Not Significant |\n",
       "| TG | 0.08229296 | Not Significant |\n",
       "\n"
      ],
      "text/plain": [
       "  marker p_value    significance   \n",
       "1 C4     0.30342416 Not Significant\n",
       "2 C8     0.75953400 Not Significant\n",
       "3 TG     0.08229296 Not Significant"
      ]
     },
     "metadata": {},
     "output_type": "display_data"
    }
   ],
   "source": [
    "# Treatment TA\n",
    "# The p-value is greater than 0.05, it suggests no significant difference in variances for the group associated with each marker.\n",
    "\n",
    "df = a_ta\n",
    "\n",
    "df_long <- df %>%\n",
    "  pivot_longer(cols = starts_with(\"analyte_value\"), names_to = \"day\", values_to = \"value\") %>%\n",
    "  mutate(day = ifelse(day == \"analyte_value.DAY1\", \"Day1\", \"Day8\"))\n",
    "\n",
    "# Perform F-test for equal variances for each marker and check statistical significance\n",
    "equal_variance_results <- df_long %>%\n",
    "  group_by(marker) %>%\n",
    "  summarize(\n",
    "    p_value = var.test(value[day == \"Day1\"], value[day == \"Day8\"])$p.value,\n",
    "    significance = ifelse(p_value <= 0.05, \"Significant\", \"Not Significant\")\n",
    "  )\n",
    "\n",
    "# Print the results\n",
    "print(\"Equality in the variances between Markers between Day 1 and Day 8, under treatment TC\")\n",
    "print(\"F-test (var.test)\")\n",
    "equal_variance_results\n",
    "\n",
    "# Levene's test for equal variances for each marker\n",
    "equal_variance_results <- df_long %>%\n",
    "  group_by(marker) %>%\n",
    "  summarize(\n",
    "    p_value = leveneTest(value ~ day)$\"Pr(>F)\"[1],\n",
    "    significance = ifelse(p_value <= 0.05, \"Significant\", \"Not Significant\")\n",
    "  )\n",
    "\n",
    "# Print the results\n",
    "print(\"Equality in the variances between Markers between Day 1 and Day 8, under treatment TC\")\n",
    "print(\"Levene's test\")\n",
    "equal_variance_results\n",
    "\n",
    "# Bartlett's test for equal variances for each marker\n",
    "equal_variance_results <- df_long %>%\n",
    "  group_by(marker) %>%\n",
    "  summarize(\n",
    "    p_value = bartlett.test(value ~ day)$p.value,\n",
    "    significance = ifelse(p_value <= 0.05, \"Significant\", \"Not Significant\")\n",
    "  )\n",
    "\n",
    "# Print the results\n",
    "print(\"Equality in the variances between Markers between Day 1 and Day 8, under treatment TC\")\n",
    "print(\"Bartlett's test\")\n",
    "equal_variance_results\n",
    "\n",
    "# Fligner-Killeen test for equal variances for each marker\n",
    "equal_variance_results <- df_long %>%\n",
    "  group_by(marker) %>%\n",
    "  summarize(\n",
    "    p_value = fligner.test(value ~ day)$p.value,\n",
    "    significance = ifelse(p_value <= 0.05, \"Significant\", \"Not Significant\")\n",
    "  )\n",
    "\n",
    "# Print the results\n",
    "print(\"Equality in the variances between Markers between Day 1 and Day 8, under treatment TC\")\n",
    "print(\"Fligner-Killeen\")\n",
    "equal_variance_results\n"
   ]
  },
  {
   "cell_type": "code",
   "execution_count": 20,
   "metadata": {},
   "outputs": [
    {
     "name": "stdout",
     "output_type": "stream",
     "text": [
      "[1] \"Equality in the variances between Markers between Day 1 and Day 8, under treatment TC\"\n",
      "[1] \"F-test (var.test)\"\n"
     ]
    },
    {
     "data": {
      "text/html": [
       "<table class=\"dataframe\">\n",
       "<caption>A tibble: 3 × 3</caption>\n",
       "<thead>\n",
       "\t<tr><th scope=col>marker</th><th scope=col>p_value</th><th scope=col>significance</th></tr>\n",
       "\t<tr><th scope=col>&lt;fct&gt;</th><th scope=col>&lt;dbl&gt;</th><th scope=col>&lt;chr&gt;</th></tr>\n",
       "</thead>\n",
       "<tbody>\n",
       "\t<tr><td>C4</td><td>0.75398551</td><td>Not Significant</td></tr>\n",
       "\t<tr><td>C8</td><td>0.93517333</td><td>Not Significant</td></tr>\n",
       "\t<tr><td>TG</td><td>0.01479721</td><td>Significant    </td></tr>\n",
       "</tbody>\n",
       "</table>\n"
      ],
      "text/latex": [
       "A tibble: 3 × 3\n",
       "\\begin{tabular}{lll}\n",
       " marker & p\\_value & significance\\\\\n",
       " <fct> & <dbl> & <chr>\\\\\n",
       "\\hline\n",
       "\t C4 & 0.75398551 & Not Significant\\\\\n",
       "\t C8 & 0.93517333 & Not Significant\\\\\n",
       "\t TG & 0.01479721 & Significant    \\\\\n",
       "\\end{tabular}\n"
      ],
      "text/markdown": [
       "\n",
       "A tibble: 3 × 3\n",
       "\n",
       "| marker &lt;fct&gt; | p_value &lt;dbl&gt; | significance &lt;chr&gt; |\n",
       "|---|---|---|\n",
       "| C4 | 0.75398551 | Not Significant |\n",
       "| C8 | 0.93517333 | Not Significant |\n",
       "| TG | 0.01479721 | Significant     |\n",
       "\n"
      ],
      "text/plain": [
       "  marker p_value    significance   \n",
       "1 C4     0.75398551 Not Significant\n",
       "2 C8     0.93517333 Not Significant\n",
       "3 TG     0.01479721 Significant    "
      ]
     },
     "metadata": {},
     "output_type": "display_data"
    },
    {
     "name": "stderr",
     "output_type": "stream",
     "text": [
      "Warning message:\n",
      "“\u001b[1m\u001b[22mThere were 3 warnings in `summarize()`.\n",
      "The first warning was:\n",
      "\u001b[1m\u001b[22m\u001b[36mℹ\u001b[39m In argument: `p_value = leveneTest(value ~ day)$\"Pr(>F)\"[1]`.\n",
      "\u001b[36mℹ\u001b[39m In group 1: `marker = C4`.\n",
      "Caused by warning in `leveneTest.default()`:\n",
      "\u001b[33m!\u001b[39m group coerced to factor.\n",
      "\u001b[1m\u001b[22m\u001b[36mℹ\u001b[39m Run `dplyr::last_dplyr_warnings()` to see the 2 remaining warnings.”\n"
     ]
    },
    {
     "name": "stdout",
     "output_type": "stream",
     "text": [
      "[1] \"Equality in the variances between Markers between Day 1 and Day 8, under treatment TC\"\n",
      "[1] \"Levene's test\"\n"
     ]
    },
    {
     "data": {
      "text/html": [
       "<table class=\"dataframe\">\n",
       "<caption>A tibble: 3 × 3</caption>\n",
       "<thead>\n",
       "\t<tr><th scope=col>marker</th><th scope=col>p_value</th><th scope=col>significance</th></tr>\n",
       "\t<tr><th scope=col>&lt;fct&gt;</th><th scope=col>&lt;dbl&gt;</th><th scope=col>&lt;chr&gt;</th></tr>\n",
       "</thead>\n",
       "<tbody>\n",
       "\t<tr><td>C4</td><td>0.58223428</td><td>Not Significant</td></tr>\n",
       "\t<tr><td>C8</td><td>0.71467355</td><td>Not Significant</td></tr>\n",
       "\t<tr><td>TG</td><td>0.08516237</td><td>Not Significant</td></tr>\n",
       "</tbody>\n",
       "</table>\n"
      ],
      "text/latex": [
       "A tibble: 3 × 3\n",
       "\\begin{tabular}{lll}\n",
       " marker & p\\_value & significance\\\\\n",
       " <fct> & <dbl> & <chr>\\\\\n",
       "\\hline\n",
       "\t C4 & 0.58223428 & Not Significant\\\\\n",
       "\t C8 & 0.71467355 & Not Significant\\\\\n",
       "\t TG & 0.08516237 & Not Significant\\\\\n",
       "\\end{tabular}\n"
      ],
      "text/markdown": [
       "\n",
       "A tibble: 3 × 3\n",
       "\n",
       "| marker &lt;fct&gt; | p_value &lt;dbl&gt; | significance &lt;chr&gt; |\n",
       "|---|---|---|\n",
       "| C4 | 0.58223428 | Not Significant |\n",
       "| C8 | 0.71467355 | Not Significant |\n",
       "| TG | 0.08516237 | Not Significant |\n",
       "\n"
      ],
      "text/plain": [
       "  marker p_value    significance   \n",
       "1 C4     0.58223428 Not Significant\n",
       "2 C8     0.71467355 Not Significant\n",
       "3 TG     0.08516237 Not Significant"
      ]
     },
     "metadata": {},
     "output_type": "display_data"
    },
    {
     "name": "stdout",
     "output_type": "stream",
     "text": [
      "[1] \"Equality in the variances between Markers between Day 1 and Day 8, under treatment TC\"\n",
      "[1] \"Bartlett's test\"\n"
     ]
    },
    {
     "data": {
      "text/html": [
       "<table class=\"dataframe\">\n",
       "<caption>A tibble: 3 × 3</caption>\n",
       "<thead>\n",
       "\t<tr><th scope=col>marker</th><th scope=col>p_value</th><th scope=col>significance</th></tr>\n",
       "\t<tr><th scope=col>&lt;fct&gt;</th><th scope=col>&lt;dbl&gt;</th><th scope=col>&lt;chr&gt;</th></tr>\n",
       "</thead>\n",
       "<tbody>\n",
       "\t<tr><td>C4</td><td>0.70728236</td><td>Not Significant</td></tr>\n",
       "\t<tr><td>C8</td><td>0.88584904</td><td>Not Significant</td></tr>\n",
       "\t<tr><td>TG</td><td>0.01320828</td><td>Significant    </td></tr>\n",
       "</tbody>\n",
       "</table>\n"
      ],
      "text/latex": [
       "A tibble: 3 × 3\n",
       "\\begin{tabular}{lll}\n",
       " marker & p\\_value & significance\\\\\n",
       " <fct> & <dbl> & <chr>\\\\\n",
       "\\hline\n",
       "\t C4 & 0.70728236 & Not Significant\\\\\n",
       "\t C8 & 0.88584904 & Not Significant\\\\\n",
       "\t TG & 0.01320828 & Significant    \\\\\n",
       "\\end{tabular}\n"
      ],
      "text/markdown": [
       "\n",
       "A tibble: 3 × 3\n",
       "\n",
       "| marker &lt;fct&gt; | p_value &lt;dbl&gt; | significance &lt;chr&gt; |\n",
       "|---|---|---|\n",
       "| C4 | 0.70728236 | Not Significant |\n",
       "| C8 | 0.88584904 | Not Significant |\n",
       "| TG | 0.01320828 | Significant     |\n",
       "\n"
      ],
      "text/plain": [
       "  marker p_value    significance   \n",
       "1 C4     0.70728236 Not Significant\n",
       "2 C8     0.88584904 Not Significant\n",
       "3 TG     0.01320828 Significant    "
      ]
     },
     "metadata": {},
     "output_type": "display_data"
    },
    {
     "name": "stdout",
     "output_type": "stream",
     "text": [
      "[1] \"Equality in the variances between Markers between Day 1 and Day 8, under treatment TC\"\n",
      "[1] \"Fligner-Killeen\"\n"
     ]
    },
    {
     "data": {
      "text/html": [
       "<table class=\"dataframe\">\n",
       "<caption>A tibble: 3 × 3</caption>\n",
       "<thead>\n",
       "\t<tr><th scope=col>marker</th><th scope=col>p_value</th><th scope=col>significance</th></tr>\n",
       "\t<tr><th scope=col>&lt;fct&gt;</th><th scope=col>&lt;dbl&gt;</th><th scope=col>&lt;chr&gt;</th></tr>\n",
       "</thead>\n",
       "<tbody>\n",
       "\t<tr><td>C4</td><td>0.41780912</td><td>Not Significant</td></tr>\n",
       "\t<tr><td>C8</td><td>0.60242503</td><td>Not Significant</td></tr>\n",
       "\t<tr><td>TG</td><td>0.07072804</td><td>Not Significant</td></tr>\n",
       "</tbody>\n",
       "</table>\n"
      ],
      "text/latex": [
       "A tibble: 3 × 3\n",
       "\\begin{tabular}{lll}\n",
       " marker & p\\_value & significance\\\\\n",
       " <fct> & <dbl> & <chr>\\\\\n",
       "\\hline\n",
       "\t C4 & 0.41780912 & Not Significant\\\\\n",
       "\t C8 & 0.60242503 & Not Significant\\\\\n",
       "\t TG & 0.07072804 & Not Significant\\\\\n",
       "\\end{tabular}\n"
      ],
      "text/markdown": [
       "\n",
       "A tibble: 3 × 3\n",
       "\n",
       "| marker &lt;fct&gt; | p_value &lt;dbl&gt; | significance &lt;chr&gt; |\n",
       "|---|---|---|\n",
       "| C4 | 0.41780912 | Not Significant |\n",
       "| C8 | 0.60242503 | Not Significant |\n",
       "| TG | 0.07072804 | Not Significant |\n",
       "\n"
      ],
      "text/plain": [
       "  marker p_value    significance   \n",
       "1 C4     0.41780912 Not Significant\n",
       "2 C8     0.60242503 Not Significant\n",
       "3 TG     0.07072804 Not Significant"
      ]
     },
     "metadata": {},
     "output_type": "display_data"
    }
   ],
   "source": [
    "# Treatment TB\n",
    "# The p-value is greater than 0.05, it suggests no significant difference in variances for the group associated with each marker.\n",
    "\n",
    "df = a_tb\n",
    "\n",
    "df_long <- df %>%\n",
    "  pivot_longer(cols = starts_with(\"analyte_value\"), names_to = \"day\", values_to = \"value\") %>%\n",
    "  mutate(day = ifelse(day == \"analyte_value.DAY1\", \"Day1\", \"Day8\"))\n",
    "\n",
    "# Perform F-test for equal variances for each marker and check statistical significance\n",
    "equal_variance_results <- df_long %>%\n",
    "  group_by(marker) %>%\n",
    "  summarize(\n",
    "    p_value = var.test(value[day == \"Day1\"], value[day == \"Day8\"])$p.value,\n",
    "    significance = ifelse(p_value <= 0.05, \"Significant\", \"Not Significant\")\n",
    "  )\n",
    "\n",
    "# Print the results\n",
    "print(\"Equality in the variances between Markers between Day 1 and Day 8, under treatment TC\")\n",
    "print(\"F-test (var.test)\")\n",
    "equal_variance_results\n",
    "\n",
    "# Levene's test for equal variances for each marker\n",
    "equal_variance_results <- df_long %>%\n",
    "  group_by(marker) %>%\n",
    "  summarize(\n",
    "    p_value = leveneTest(value ~ day)$\"Pr(>F)\"[1],\n",
    "    significance = ifelse(p_value <= 0.05, \"Significant\", \"Not Significant\")\n",
    "  )\n",
    "\n",
    "# Print the results\n",
    "print(\"Equality in the variances between Markers between Day 1 and Day 8, under treatment TC\")\n",
    "print(\"Levene's test\")\n",
    "equal_variance_results\n",
    "\n",
    "# Bartlett's test for equal variances for each marker\n",
    "equal_variance_results <- df_long %>%\n",
    "  group_by(marker) %>%\n",
    "  summarize(\n",
    "    p_value = bartlett.test(value ~ day)$p.value,\n",
    "    significance = ifelse(p_value <= 0.05, \"Significant\", \"Not Significant\")\n",
    "  )\n",
    "\n",
    "# Print the results\n",
    "print(\"Equality in the variances between Markers between Day 1 and Day 8, under treatment TC\")\n",
    "print(\"Bartlett's test\")\n",
    "equal_variance_results\n",
    "\n",
    "# Fligner-Killeen test for equal variances for each marker\n",
    "equal_variance_results <- df_long %>%\n",
    "  group_by(marker) %>%\n",
    "  summarize(\n",
    "    p_value = fligner.test(value ~ day)$p.value,\n",
    "    significance = ifelse(p_value <= 0.05, \"Significant\", \"Not Significant\")\n",
    "  )\n",
    "\n",
    "# Print the results\n",
    "print(\"Equality in the variances between Markers between Day 1 and Day 8, under treatment TC\")\n",
    "print(\"Fligner-Killeen\")\n",
    "equal_variance_results\n"
   ]
  },
  {
   "cell_type": "code",
   "execution_count": 21,
   "metadata": {},
   "outputs": [
    {
     "name": "stdout",
     "output_type": "stream",
     "text": [
      "[1] \"Equality in the variances between Markers between Day 1 and Day 8, under treatment TC\"\n",
      "[1] \"F-test (var.test)\"\n"
     ]
    },
    {
     "data": {
      "text/html": [
       "<table class=\"dataframe\">\n",
       "<caption>A tibble: 3 × 3</caption>\n",
       "<thead>\n",
       "\t<tr><th scope=col>marker</th><th scope=col>p_value</th><th scope=col>significance</th></tr>\n",
       "\t<tr><th scope=col>&lt;fct&gt;</th><th scope=col>&lt;dbl&gt;</th><th scope=col>&lt;chr&gt;</th></tr>\n",
       "</thead>\n",
       "<tbody>\n",
       "\t<tr><td>C4</td><td>0.22127536</td><td>Not Significant</td></tr>\n",
       "\t<tr><td>C8</td><td>0.42047836</td><td>Not Significant</td></tr>\n",
       "\t<tr><td>TG</td><td>0.08528433</td><td>Not Significant</td></tr>\n",
       "</tbody>\n",
       "</table>\n"
      ],
      "text/latex": [
       "A tibble: 3 × 3\n",
       "\\begin{tabular}{lll}\n",
       " marker & p\\_value & significance\\\\\n",
       " <fct> & <dbl> & <chr>\\\\\n",
       "\\hline\n",
       "\t C4 & 0.22127536 & Not Significant\\\\\n",
       "\t C8 & 0.42047836 & Not Significant\\\\\n",
       "\t TG & 0.08528433 & Not Significant\\\\\n",
       "\\end{tabular}\n"
      ],
      "text/markdown": [
       "\n",
       "A tibble: 3 × 3\n",
       "\n",
       "| marker &lt;fct&gt; | p_value &lt;dbl&gt; | significance &lt;chr&gt; |\n",
       "|---|---|---|\n",
       "| C4 | 0.22127536 | Not Significant |\n",
       "| C8 | 0.42047836 | Not Significant |\n",
       "| TG | 0.08528433 | Not Significant |\n",
       "\n"
      ],
      "text/plain": [
       "  marker p_value    significance   \n",
       "1 C4     0.22127536 Not Significant\n",
       "2 C8     0.42047836 Not Significant\n",
       "3 TG     0.08528433 Not Significant"
      ]
     },
     "metadata": {},
     "output_type": "display_data"
    },
    {
     "name": "stderr",
     "output_type": "stream",
     "text": [
      "Warning message:\n",
      "“\u001b[1m\u001b[22mThere were 3 warnings in `summarize()`.\n",
      "The first warning was:\n",
      "\u001b[1m\u001b[22m\u001b[36mℹ\u001b[39m In argument: `p_value = leveneTest(value ~ day)$\"Pr(>F)\"[1]`.\n",
      "\u001b[36mℹ\u001b[39m In group 1: `marker = C4`.\n",
      "Caused by warning in `leveneTest.default()`:\n",
      "\u001b[33m!\u001b[39m group coerced to factor.\n",
      "\u001b[1m\u001b[22m\u001b[36mℹ\u001b[39m Run `dplyr::last_dplyr_warnings()` to see the 2 remaining warnings.”\n"
     ]
    },
    {
     "name": "stdout",
     "output_type": "stream",
     "text": [
      "[1] \"Equality in the variances between Markers between Day 1 and Day 8, under treatment TC\"\n",
      "[1] \"Levene's test\"\n"
     ]
    },
    {
     "data": {
      "text/html": [
       "<table class=\"dataframe\">\n",
       "<caption>A tibble: 3 × 3</caption>\n",
       "<thead>\n",
       "\t<tr><th scope=col>marker</th><th scope=col>p_value</th><th scope=col>significance</th></tr>\n",
       "\t<tr><th scope=col>&lt;fct&gt;</th><th scope=col>&lt;dbl&gt;</th><th scope=col>&lt;chr&gt;</th></tr>\n",
       "</thead>\n",
       "<tbody>\n",
       "\t<tr><td>C4</td><td>0.1075258</td><td>Not Significant</td></tr>\n",
       "\t<tr><td>C8</td><td>0.9123884</td><td>Not Significant</td></tr>\n",
       "\t<tr><td>TG</td><td>0.1497567</td><td>Not Significant</td></tr>\n",
       "</tbody>\n",
       "</table>\n"
      ],
      "text/latex": [
       "A tibble: 3 × 3\n",
       "\\begin{tabular}{lll}\n",
       " marker & p\\_value & significance\\\\\n",
       " <fct> & <dbl> & <chr>\\\\\n",
       "\\hline\n",
       "\t C4 & 0.1075258 & Not Significant\\\\\n",
       "\t C8 & 0.9123884 & Not Significant\\\\\n",
       "\t TG & 0.1497567 & Not Significant\\\\\n",
       "\\end{tabular}\n"
      ],
      "text/markdown": [
       "\n",
       "A tibble: 3 × 3\n",
       "\n",
       "| marker &lt;fct&gt; | p_value &lt;dbl&gt; | significance &lt;chr&gt; |\n",
       "|---|---|---|\n",
       "| C4 | 0.1075258 | Not Significant |\n",
       "| C8 | 0.9123884 | Not Significant |\n",
       "| TG | 0.1497567 | Not Significant |\n",
       "\n"
      ],
      "text/plain": [
       "  marker p_value   significance   \n",
       "1 C4     0.1075258 Not Significant\n",
       "2 C8     0.9123884 Not Significant\n",
       "3 TG     0.1497567 Not Significant"
      ]
     },
     "metadata": {},
     "output_type": "display_data"
    },
    {
     "name": "stdout",
     "output_type": "stream",
     "text": [
      "[1] \"Equality in the variances between Markers between Day 1 and Day 8, under treatment TC\"\n",
      "[1] \"Bartlett's test\"\n"
     ]
    },
    {
     "data": {
      "text/html": [
       "<table class=\"dataframe\">\n",
       "<caption>A tibble: 3 × 3</caption>\n",
       "<thead>\n",
       "\t<tr><th scope=col>marker</th><th scope=col>p_value</th><th scope=col>significance</th></tr>\n",
       "\t<tr><th scope=col>&lt;fct&gt;</th><th scope=col>&lt;dbl&gt;</th><th scope=col>&lt;chr&gt;</th></tr>\n",
       "</thead>\n",
       "<tbody>\n",
       "\t<tr><td>C4</td><td>0.1851524</td><td>Not Significant</td></tr>\n",
       "\t<tr><td>C8</td><td>0.3610777</td><td>Not Significant</td></tr>\n",
       "\t<tr><td>TG</td><td>0.1093902</td><td>Not Significant</td></tr>\n",
       "</tbody>\n",
       "</table>\n"
      ],
      "text/latex": [
       "A tibble: 3 × 3\n",
       "\\begin{tabular}{lll}\n",
       " marker & p\\_value & significance\\\\\n",
       " <fct> & <dbl> & <chr>\\\\\n",
       "\\hline\n",
       "\t C4 & 0.1851524 & Not Significant\\\\\n",
       "\t C8 & 0.3610777 & Not Significant\\\\\n",
       "\t TG & 0.1093902 & Not Significant\\\\\n",
       "\\end{tabular}\n"
      ],
      "text/markdown": [
       "\n",
       "A tibble: 3 × 3\n",
       "\n",
       "| marker &lt;fct&gt; | p_value &lt;dbl&gt; | significance &lt;chr&gt; |\n",
       "|---|---|---|\n",
       "| C4 | 0.1851524 | Not Significant |\n",
       "| C8 | 0.3610777 | Not Significant |\n",
       "| TG | 0.1093902 | Not Significant |\n",
       "\n"
      ],
      "text/plain": [
       "  marker p_value   significance   \n",
       "1 C4     0.1851524 Not Significant\n",
       "2 C8     0.3610777 Not Significant\n",
       "3 TG     0.1093902 Not Significant"
      ]
     },
     "metadata": {},
     "output_type": "display_data"
    },
    {
     "name": "stdout",
     "output_type": "stream",
     "text": [
      "[1] \"Equality in the variances between Markers between Day 1 and Day 8, under treatment TC\"\n",
      "[1] \"Fligner-Killeen\"\n"
     ]
    },
    {
     "data": {
      "text/html": [
       "<table class=\"dataframe\">\n",
       "<caption>A tibble: 3 × 3</caption>\n",
       "<thead>\n",
       "\t<tr><th scope=col>marker</th><th scope=col>p_value</th><th scope=col>significance</th></tr>\n",
       "\t<tr><th scope=col>&lt;fct&gt;</th><th scope=col>&lt;dbl&gt;</th><th scope=col>&lt;chr&gt;</th></tr>\n",
       "</thead>\n",
       "<tbody>\n",
       "\t<tr><td>C4</td><td>0.1227799</td><td>Not Significant</td></tr>\n",
       "\t<tr><td>C8</td><td>0.5546441</td><td>Not Significant</td></tr>\n",
       "\t<tr><td>TG</td><td>0.1440726</td><td>Not Significant</td></tr>\n",
       "</tbody>\n",
       "</table>\n"
      ],
      "text/latex": [
       "A tibble: 3 × 3\n",
       "\\begin{tabular}{lll}\n",
       " marker & p\\_value & significance\\\\\n",
       " <fct> & <dbl> & <chr>\\\\\n",
       "\\hline\n",
       "\t C4 & 0.1227799 & Not Significant\\\\\n",
       "\t C8 & 0.5546441 & Not Significant\\\\\n",
       "\t TG & 0.1440726 & Not Significant\\\\\n",
       "\\end{tabular}\n"
      ],
      "text/markdown": [
       "\n",
       "A tibble: 3 × 3\n",
       "\n",
       "| marker &lt;fct&gt; | p_value &lt;dbl&gt; | significance &lt;chr&gt; |\n",
       "|---|---|---|\n",
       "| C4 | 0.1227799 | Not Significant |\n",
       "| C8 | 0.5546441 | Not Significant |\n",
       "| TG | 0.1440726 | Not Significant |\n",
       "\n"
      ],
      "text/plain": [
       "  marker p_value   significance   \n",
       "1 C4     0.1227799 Not Significant\n",
       "2 C8     0.5546441 Not Significant\n",
       "3 TG     0.1440726 Not Significant"
      ]
     },
     "metadata": {},
     "output_type": "display_data"
    }
   ],
   "source": [
    "# Treatment TC\n",
    "# The p-value is greater than 0.05, it suggests no significant difference in variances for the group associated with each marker.\n",
    "\n",
    "df = a_tc\n",
    "\n",
    "df_long <- df %>%\n",
    "  pivot_longer(cols = starts_with(\"analyte_value\"), names_to = \"day\", values_to = \"value\") %>%\n",
    "  mutate(day = ifelse(day == \"analyte_value.DAY1\", \"Day1\", \"Day8\"))\n",
    "\n",
    "# Perform F-test for equal variances for each marker and check statistical significance\n",
    "equal_variance_results <- df_long %>%\n",
    "  group_by(marker) %>%\n",
    "  summarize(\n",
    "    p_value = var.test(value[day == \"Day1\"], value[day == \"Day8\"])$p.value,\n",
    "    significance = ifelse(p_value <= 0.05, \"Significant\", \"Not Significant\")\n",
    "  )\n",
    "\n",
    "# Print the results\n",
    "print(\"Equality in the variances between Markers between Day 1 and Day 8, under treatment TC\")\n",
    "print(\"F-test (var.test)\")\n",
    "equal_variance_results\n",
    "\n",
    "# Levene's test for equal variances for each marker\n",
    "equal_variance_results <- df_long %>%\n",
    "  group_by(marker) %>%\n",
    "  summarize(\n",
    "    p_value = leveneTest(value ~ day)$\"Pr(>F)\"[1],\n",
    "    significance = ifelse(p_value <= 0.05, \"Significant\", \"Not Significant\")\n",
    "  )\n",
    "\n",
    "# Print the results\n",
    "print(\"Equality in the variances between Markers between Day 1 and Day 8, under treatment TC\")\n",
    "print(\"Levene's test\")\n",
    "equal_variance_results\n",
    "\n",
    "# Bartlett's test for equal variances for each marker\n",
    "equal_variance_results <- df_long %>%\n",
    "  group_by(marker) %>%\n",
    "  summarize(\n",
    "    p_value = bartlett.test(value ~ day)$p.value,\n",
    "    significance = ifelse(p_value <= 0.05, \"Significant\", \"Not Significant\")\n",
    "  )\n",
    "\n",
    "# Print the results\n",
    "print(\"Equality in the variances between Markers between Day 1 and Day 8, under treatment TC\")\n",
    "print(\"Bartlett's test\")\n",
    "equal_variance_results\n",
    "\n",
    "# Fligner-Killeen test for equal variances for each marker\n",
    "equal_variance_results <- df_long %>%\n",
    "  group_by(marker) %>%\n",
    "  summarize(\n",
    "    p_value = fligner.test(value ~ day)$p.value,\n",
    "    significance = ifelse(p_value <= 0.05, \"Significant\", \"Not Significant\")\n",
    "  )\n",
    "\n",
    "# Print the results\n",
    "print(\"Equality in the variances between Markers between Day 1 and Day 8, under treatment TC\")\n",
    "print(\"Fligner-Killeen\")\n",
    "equal_variance_results\n"
   ]
  },
  {
   "cell_type": "code",
   "execution_count": null,
   "metadata": {},
   "outputs": [],
   "source": []
  },
  {
   "cell_type": "code",
   "execution_count": 22,
   "metadata": {},
   "outputs": [],
   "source": [
    "# CONCLUSIONS :\n",
    "# with a few exceptions, these tests tell us that the VARIANCES of the distributions \n",
    "# of the analyte values are equal between Day 1 and Day 8"
   ]
  },
  {
   "cell_type": "code",
   "execution_count": null,
   "metadata": {},
   "outputs": [],
   "source": []
  },
  {
   "cell_type": "code",
   "execution_count": 23,
   "metadata": {},
   "outputs": [],
   "source": [
    "# Given the gaussian distribution and the homoscedasticity of the analyte values for each marker under the treatment TA, TB, TC, \n",
    "# we could use a standard t.test var.equal = TRUE. Due to several exceptions, we will use also Welch T-test. "
   ]
  },
  {
   "cell_type": "code",
   "execution_count": 24,
   "metadata": {},
   "outputs": [],
   "source": [
    "# treatment TA"
   ]
  },
  {
   "cell_type": "code",
   "execution_count": 25,
   "metadata": {},
   "outputs": [
    {
     "name": "stdout",
     "output_type": "stream",
     "text": [
      "[1] \"Differences in the Treatment TA :\"\n",
      "[1] \"use T.test that assumes equal variances :\"\n",
      "\u001b[90m# A tibble: 3 × 4\u001b[39m\n",
      "  marker t_test  p_value significance_label\n",
      "  \u001b[3m\u001b[90m<fct>\u001b[39m\u001b[23m  \u001b[3m\u001b[90m<list>\u001b[39m\u001b[23m    \u001b[3m\u001b[90m<dbl>\u001b[39m\u001b[23m \u001b[3m\u001b[90m<chr>\u001b[39m\u001b[23m             \n",
      "\u001b[90m1\u001b[39m C4     \u001b[90m<htest>\u001b[39m  0.145  Not Significant   \n",
      "\u001b[90m2\u001b[39m C8     \u001b[90m<htest>\u001b[39m  0.314  Not Significant   \n",
      "\u001b[90m3\u001b[39m TG     \u001b[90m<htest>\u001b[39m  0.071\u001b[4m4\u001b[24m Not Significant   \n",
      "[1] \"Differences in the Treatment TA :\"\n",
      "[1] \"use Welsch T.test:\"\n",
      "\u001b[90m# A tibble: 3 × 4\u001b[39m\n",
      "  marker t_test  p_value significance_label\n",
      "  \u001b[3m\u001b[90m<fct>\u001b[39m\u001b[23m  \u001b[3m\u001b[90m<list>\u001b[39m\u001b[23m    \u001b[3m\u001b[90m<dbl>\u001b[39m\u001b[23m \u001b[3m\u001b[90m<chr>\u001b[39m\u001b[23m             \n",
      "\u001b[90m1\u001b[39m C4     \u001b[90m<htest>\u001b[39m  0.147  Not Significant   \n",
      "\u001b[90m2\u001b[39m C8     \u001b[90m<htest>\u001b[39m  0.321  Not Significant   \n",
      "\u001b[90m3\u001b[39m TG     \u001b[90m<htest>\u001b[39m  0.073\u001b[4m0\u001b[24m Not Significant   \n"
     ]
    }
   ],
   "source": [
    "df = a_ta\n",
    "\n",
    "# use T.test with var.equal = TRUE\n",
    "\n",
    "results <- df %>%\n",
    "  group_by(marker) %>%\n",
    "  summarise(\n",
    "    t_test = list(t.test(analyte_value.DAY8, analyte_value.DAY1, var.equal=TRUE)),\n",
    "    .groups = 'drop'\n",
    "  ) %>%\n",
    "  mutate(\n",
    "    p_value = sapply(t_test, function(x) x$p.value),\n",
    "    significance_label = ifelse(p_value < 0.05, \"Significant\", \"Not Significant\")\n",
    "  )\n",
    "# Print the results\n",
    "print(\"Differences in the Treatment TA :\")\n",
    "print(\"use T.test that assumes equal variances :\")\n",
    "print(results)\n",
    "      \n",
    "# use Welch T.test\n",
    "      \n",
    "results <- df %>%\n",
    "  group_by(marker) %>%\n",
    "  summarise(\n",
    "    t_test = list(t.test(analyte_value.DAY8, analyte_value.DAY1)),\n",
    "    .groups = 'drop'\n",
    "  ) %>%\n",
    "  mutate(\n",
    "    p_value = sapply(t_test, function(x) x$p.value),\n",
    "    significance_label = ifelse(p_value < 0.05, \"Significant\", \"Not Significant\")\n",
    "  )\n",
    "# Print the results\n",
    "print(\"Differences in the Treatment TA :\")\n",
    "print(\"use Welsch T.test:\")\n",
    "print(results)"
   ]
  },
  {
   "cell_type": "code",
   "execution_count": 26,
   "metadata": {},
   "outputs": [],
   "source": [
    "# treatment TB"
   ]
  },
  {
   "cell_type": "code",
   "execution_count": 27,
   "metadata": {},
   "outputs": [
    {
     "name": "stdout",
     "output_type": "stream",
     "text": [
      "[1] \"Differences in the Treatment TB :\"\n",
      "[1] \"use T.test that assumes equal variances :\"\n",
      "\u001b[90m# A tibble: 3 × 4\u001b[39m\n",
      "  marker t_test  p_value significance_label\n",
      "  \u001b[3m\u001b[90m<fct>\u001b[39m\u001b[23m  \u001b[3m\u001b[90m<list>\u001b[39m\u001b[23m    \u001b[3m\u001b[90m<dbl>\u001b[39m\u001b[23m \u001b[3m\u001b[90m<chr>\u001b[39m\u001b[23m             \n",
      "\u001b[90m1\u001b[39m C4     \u001b[90m<htest>\u001b[39m  0.483  Not Significant   \n",
      "\u001b[90m2\u001b[39m C8     \u001b[90m<htest>\u001b[39m  0.678  Not Significant   \n",
      "\u001b[90m3\u001b[39m TG     \u001b[90m<htest>\u001b[39m  0.096\u001b[4m6\u001b[24m Not Significant   \n",
      "[1] \"Differences in the Treatment TB :\"\n",
      "[1] \"use Welsch T.test:\"\n",
      "\u001b[90m# A tibble: 3 × 4\u001b[39m\n",
      "  marker t_test  p_value significance_label\n",
      "  \u001b[3m\u001b[90m<fct>\u001b[39m\u001b[23m  \u001b[3m\u001b[90m<list>\u001b[39m\u001b[23m    \u001b[3m\u001b[90m<dbl>\u001b[39m\u001b[23m \u001b[3m\u001b[90m<chr>\u001b[39m\u001b[23m             \n",
      "\u001b[90m1\u001b[39m C4     \u001b[90m<htest>\u001b[39m  0.469  Not Significant   \n",
      "\u001b[90m2\u001b[39m C8     \u001b[90m<htest>\u001b[39m  0.675  Not Significant   \n",
      "\u001b[90m3\u001b[39m TG     \u001b[90m<htest>\u001b[39m  0.068\u001b[4m2\u001b[24m Not Significant   \n"
     ]
    }
   ],
   "source": [
    "df = a_tb \n",
    "\n",
    "# use T.test with var.equal = TRUE\n",
    "\n",
    "results <- df %>%\n",
    "  group_by(marker) %>%\n",
    "  summarise(\n",
    "    t_test = list(t.test(analyte_value.DAY8, analyte_value.DAY1, var.equal=TRUE)),\n",
    "    .groups = 'drop'\n",
    "  ) %>%\n",
    "  mutate(\n",
    "    p_value = sapply(t_test, function(x) x$p.value),\n",
    "    significance_label = ifelse(p_value < 0.05, \"Significant\", \"Not Significant\")\n",
    "  )\n",
    "# Print the results\n",
    "print(\"Differences in the Treatment TB :\")\n",
    "print(\"use T.test that assumes equal variances :\")\n",
    "print(results)\n",
    "      \n",
    "# use Welch T.test\n",
    "      \n",
    "results <- df %>%\n",
    "  group_by(marker) %>%\n",
    "  summarise(\n",
    "    t_test = list(t.test(analyte_value.DAY8, analyte_value.DAY1)),\n",
    "    .groups = 'drop'\n",
    "  ) %>%\n",
    "  mutate(\n",
    "    p_value = sapply(t_test, function(x) x$p.value),\n",
    "    significance_label = ifelse(p_value < 0.05, \"Significant\", \"Not Significant\")\n",
    "  )\n",
    "# Print the results\n",
    "print(\"Differences in the Treatment TB :\")\n",
    "print(\"use Welsch T.test:\")\n",
    "print(results)"
   ]
  },
  {
   "cell_type": "code",
   "execution_count": 28,
   "metadata": {},
   "outputs": [],
   "source": [
    "# treatment TC"
   ]
  },
  {
   "cell_type": "code",
   "execution_count": 29,
   "metadata": {},
   "outputs": [
    {
     "name": "stdout",
     "output_type": "stream",
     "text": [
      "[1] \"Differences in the Treatment TC :\"\n",
      "[1] \"use T.test that assumes equal variances :\"\n",
      "\u001b[90m# A tibble: 3 × 4\u001b[39m\n",
      "  marker t_test  p_value significance_label\n",
      "  \u001b[3m\u001b[90m<fct>\u001b[39m\u001b[23m  \u001b[3m\u001b[90m<list>\u001b[39m\u001b[23m    \u001b[3m\u001b[90m<dbl>\u001b[39m\u001b[23m \u001b[3m\u001b[90m<chr>\u001b[39m\u001b[23m             \n",
      "\u001b[90m1\u001b[39m C4     \u001b[90m<htest>\u001b[39m  0.667  Not Significant   \n",
      "\u001b[90m2\u001b[39m C8     \u001b[90m<htest>\u001b[39m  0.935  Not Significant   \n",
      "\u001b[90m3\u001b[39m TG     \u001b[90m<htest>\u001b[39m  0.052\u001b[4m1\u001b[24m Not Significant   \n",
      "[1] \"Differences in the Treatment TC :\"\n",
      "[1] \"use Welsch T.test:\"\n",
      "\u001b[90m# A tibble: 3 × 4\u001b[39m\n",
      "  marker t_test  p_value significance_label\n",
      "  \u001b[3m\u001b[90m<fct>\u001b[39m\u001b[23m  \u001b[3m\u001b[90m<list>\u001b[39m\u001b[23m    \u001b[3m\u001b[90m<dbl>\u001b[39m\u001b[23m \u001b[3m\u001b[90m<chr>\u001b[39m\u001b[23m             \n",
      "\u001b[90m1\u001b[39m C4     \u001b[90m<htest>\u001b[39m   0.601 Not Significant   \n",
      "\u001b[90m2\u001b[39m C8     \u001b[90m<htest>\u001b[39m   0.925 Not Significant   \n",
      "\u001b[90m3\u001b[39m TG     \u001b[90m<htest>\u001b[39m   0.151 Not Significant   \n"
     ]
    }
   ],
   "source": [
    "df = a_tc\n",
    "\n",
    "# use T.test with var.equal = TRUE\n",
    "\n",
    "results <- df %>%\n",
    "  group_by(marker) %>%\n",
    "  summarise(\n",
    "    t_test = list(t.test(analyte_value.DAY8, analyte_value.DAY1, var.equal=TRUE)),\n",
    "    .groups = 'drop'\n",
    "  ) %>%\n",
    "  mutate(\n",
    "    p_value = sapply(t_test, function(x) x$p.value),\n",
    "    significance_label = ifelse(p_value < 0.05, \"Significant\", \"Not Significant\")\n",
    "  )\n",
    "# Print the results\n",
    "print(\"Differences in the Treatment TC :\")\n",
    "print(\"use T.test that assumes equal variances :\")\n",
    "print(results)\n",
    "      \n",
    "# use Welch T.test\n",
    "      \n",
    "results <- df %>%\n",
    "  group_by(marker) %>%\n",
    "  summarise(\n",
    "    t_test = list(t.test(analyte_value.DAY8, analyte_value.DAY1)),\n",
    "    .groups = 'drop'\n",
    "  ) %>%\n",
    "  mutate(\n",
    "    p_value = sapply(t_test, function(x) x$p.value),\n",
    "    significance_label = ifelse(p_value < 0.05, \"Significant\", \"Not Significant\")\n",
    "  )\n",
    "# Print the results\n",
    "print(\"Differences in the Treatment TC :\")\n",
    "print(\"use Welsch T.test:\")\n",
    "print(results)"
   ]
  },
  {
   "cell_type": "code",
   "execution_count": null,
   "metadata": {},
   "outputs": [],
   "source": []
  },
  {
   "cell_type": "code",
   "execution_count": 30,
   "metadata": {},
   "outputs": [],
   "source": [
    "# CONCLUSIONS : for each marker at Day 8 and Day 1 under each treatment, \n",
    "# we do not detect statistical significance difference of the analyte values between Day 1 and Day 8."
   ]
  },
  {
   "cell_type": "code",
   "execution_count": null,
   "metadata": {},
   "outputs": [],
   "source": []
  }
 ],
 "metadata": {
  "kernelspec": {
   "display_name": "R",
   "language": "R",
   "name": "ir"
  },
  "language_info": {
   "codemirror_mode": "r",
   "file_extension": ".r",
   "mimetype": "text/x-r-source",
   "name": "R",
   "pygments_lexer": "r",
   "version": "4.2.0"
  }
 },
 "nbformat": 4,
 "nbformat_minor": 4
}
